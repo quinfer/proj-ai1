{
 "cells": [
  {
   "cell_type": "code",
   "execution_count": 34,
   "metadata": {},
   "outputs": [],
   "source": [
    "from elsapy.elsclient import ElsClient\n",
    "from elsapy.elsprofile import ElsAuthor, ElsAffil\n",
    "from elsapy.elsdoc import FullDoc, AbsDoc\n",
    "from elsapy.elssearch import ElsSearch\n",
    "import json\n",
    "import re\n",
    "from elsapy.elssearch import ElsSearch    \n",
    "## Load configuration\n",
    "con_file = open(\"config.json\")\n",
    "config = json.load(con_file)\n",
    "con_file.close()\n",
    "\n",
    "## Initialize client\n",
    "client = ElsClient(config['apikey'])\n",
    "#client.inst_token = config['insttoken']"
   ]
  },
  {
   "cell_type": "code",
   "execution_count": 35,
   "metadata": {},
   "outputs": [
    {
     "name": "stdout",
     "output_type": "stream",
     "text": [
      "Number of search results: 110\n"
     ]
    }
   ],
   "source": [
    "import re\n",
    "from elsapy.elssearch import ElsSearch\n",
    "\n",
    "# Initialize ElsSearch object\n",
    "doc_srch = ElsSearch('', 'scopus')\n",
    "\n",
    "query = r'\"Markov decision process\" AND \"credit risk\"'\n",
    "doc_srch = ElsSearch(query,'scopus')\n",
    "doc_srch.execute(client,get_all=True)\n",
    "\n",
    "# Print the number of search results\n",
    "print(\"Number of search results:\", len(doc_srch.results))"
   ]
  },
  {
   "cell_type": "code",
   "execution_count": 38,
   "metadata": {},
   "outputs": [
    {
     "ename": "KeyError",
     "evalue": "'dc:description'",
     "output_type": "error",
     "traceback": [
      "\u001b[0;31m---------------------------------------------------------------------------\u001b[0m",
      "\u001b[0;31mKeyError\u001b[0m                                  Traceback (most recent call last)",
      "File \u001b[0;32m~/Documents/msc-ai/torchy/lib/python3.11/site-packages/pandas/core/indexes/base.py:3790\u001b[0m, in \u001b[0;36mIndex.get_loc\u001b[0;34m(self, key)\u001b[0m\n\u001b[1;32m   3789\u001b[0m \u001b[39mtry\u001b[39;00m:\n\u001b[0;32m-> 3790\u001b[0m     \u001b[39mreturn\u001b[39;00m \u001b[39mself\u001b[39;49m\u001b[39m.\u001b[39;49m_engine\u001b[39m.\u001b[39;49mget_loc(casted_key)\n\u001b[1;32m   3791\u001b[0m \u001b[39mexcept\u001b[39;00m \u001b[39mKeyError\u001b[39;00m \u001b[39mas\u001b[39;00m err:\n",
      "File \u001b[0;32mindex.pyx:152\u001b[0m, in \u001b[0;36mpandas._libs.index.IndexEngine.get_loc\u001b[0;34m()\u001b[0m\n",
      "File \u001b[0;32mindex.pyx:181\u001b[0m, in \u001b[0;36mpandas._libs.index.IndexEngine.get_loc\u001b[0;34m()\u001b[0m\n",
      "File \u001b[0;32mpandas/_libs/hashtable_class_helper.pxi:7080\u001b[0m, in \u001b[0;36mpandas._libs.hashtable.PyObjectHashTable.get_item\u001b[0;34m()\u001b[0m\n",
      "File \u001b[0;32mpandas/_libs/hashtable_class_helper.pxi:7088\u001b[0m, in \u001b[0;36mpandas._libs.hashtable.PyObjectHashTable.get_item\u001b[0;34m()\u001b[0m\n",
      "\u001b[0;31mKeyError\u001b[0m: 'dc:description'",
      "\nThe above exception was the direct cause of the following exception:\n",
      "\u001b[0;31mKeyError\u001b[0m                                  Traceback (most recent call last)",
      "\u001b[1;32m/Users/quinference/Documents/msc-ai/assessment_project/scopus_search.ipynb Cell 3\u001b[0m line \u001b[0;36m1\n\u001b[1;32m     <a href='vscode-notebook-cell:/Users/quinference/Documents/msc-ai/assessment_project/scopus_search.ipynb#X11sZmlsZQ%3D%3D?line=11'>12</a>\u001b[0m abstracts \u001b[39m=\u001b[39m []\n\u001b[1;32m     <a href='vscode-notebook-cell:/Users/quinference/Documents/msc-ai/assessment_project/scopus_search.ipynb#X11sZmlsZQ%3D%3D?line=12'>13</a>\u001b[0m \u001b[39mfor\u001b[39;00m i \u001b[39min\u001b[39;00m \u001b[39mrange\u001b[39m(\u001b[39mlen\u001b[39m(df)):\n\u001b[0;32m---> <a href='vscode-notebook-cell:/Users/quinference/Documents/msc-ai/assessment_project/scopus_search.ipynb#X11sZmlsZQ%3D%3D?line=13'>14</a>\u001b[0m     abstracts\u001b[39m.\u001b[39mappend(df[\u001b[39m'\u001b[39;49m\u001b[39mdc:description\u001b[39;49m\u001b[39m'\u001b[39;49m][i])\n\u001b[1;32m     <a href='vscode-notebook-cell:/Users/quinference/Documents/msc-ai/assessment_project/scopus_search.ipynb#X11sZmlsZQ%3D%3D?line=15'>16</a>\u001b[0m \u001b[39m# Clean abstracts\u001b[39;00m\n\u001b[1;32m     <a href='vscode-notebook-cell:/Users/quinference/Documents/msc-ai/assessment_project/scopus_search.ipynb#X11sZmlsZQ%3D%3D?line=16'>17</a>\u001b[0m abstracts_clean \u001b[39m=\u001b[39m []\n",
      "File \u001b[0;32m~/Documents/msc-ai/torchy/lib/python3.11/site-packages/pandas/core/frame.py:3896\u001b[0m, in \u001b[0;36mDataFrame.__getitem__\u001b[0;34m(self, key)\u001b[0m\n\u001b[1;32m   3894\u001b[0m \u001b[39mif\u001b[39;00m \u001b[39mself\u001b[39m\u001b[39m.\u001b[39mcolumns\u001b[39m.\u001b[39mnlevels \u001b[39m>\u001b[39m \u001b[39m1\u001b[39m:\n\u001b[1;32m   3895\u001b[0m     \u001b[39mreturn\u001b[39;00m \u001b[39mself\u001b[39m\u001b[39m.\u001b[39m_getitem_multilevel(key)\n\u001b[0;32m-> 3896\u001b[0m indexer \u001b[39m=\u001b[39m \u001b[39mself\u001b[39;49m\u001b[39m.\u001b[39;49mcolumns\u001b[39m.\u001b[39;49mget_loc(key)\n\u001b[1;32m   3897\u001b[0m \u001b[39mif\u001b[39;00m is_integer(indexer):\n\u001b[1;32m   3898\u001b[0m     indexer \u001b[39m=\u001b[39m [indexer]\n",
      "File \u001b[0;32m~/Documents/msc-ai/torchy/lib/python3.11/site-packages/pandas/core/indexes/base.py:3797\u001b[0m, in \u001b[0;36mIndex.get_loc\u001b[0;34m(self, key)\u001b[0m\n\u001b[1;32m   3792\u001b[0m     \u001b[39mif\u001b[39;00m \u001b[39misinstance\u001b[39m(casted_key, \u001b[39mslice\u001b[39m) \u001b[39mor\u001b[39;00m (\n\u001b[1;32m   3793\u001b[0m         \u001b[39misinstance\u001b[39m(casted_key, abc\u001b[39m.\u001b[39mIterable)\n\u001b[1;32m   3794\u001b[0m         \u001b[39mand\u001b[39;00m \u001b[39many\u001b[39m(\u001b[39misinstance\u001b[39m(x, \u001b[39mslice\u001b[39m) \u001b[39mfor\u001b[39;00m x \u001b[39min\u001b[39;00m casted_key)\n\u001b[1;32m   3795\u001b[0m     ):\n\u001b[1;32m   3796\u001b[0m         \u001b[39mraise\u001b[39;00m InvalidIndexError(key)\n\u001b[0;32m-> 3797\u001b[0m     \u001b[39mraise\u001b[39;00m \u001b[39mKeyError\u001b[39;00m(key) \u001b[39mfrom\u001b[39;00m \u001b[39merr\u001b[39;00m\n\u001b[1;32m   3798\u001b[0m \u001b[39mexcept\u001b[39;00m \u001b[39mTypeError\u001b[39;00m:\n\u001b[1;32m   3799\u001b[0m     \u001b[39m# If we have a listlike key, _check_indexing_error will raise\u001b[39;00m\n\u001b[1;32m   3800\u001b[0m     \u001b[39m#  InvalidIndexError. Otherwise we fall through and re-raise\u001b[39;00m\n\u001b[1;32m   3801\u001b[0m     \u001b[39m#  the TypeError.\u001b[39;00m\n\u001b[1;32m   3802\u001b[0m     \u001b[39mself\u001b[39m\u001b[39m.\u001b[39m_check_indexing_error(key)\n",
      "\u001b[0;31mKeyError\u001b[0m: 'dc:description'"
     ]
    }
   ],
   "source": [
    "#convert to a dataframe\n",
    "import pandas as pd\n",
    "df = pd.DataFrame(doc_srch.results)\n",
    "df.head()\n",
    "\n",
    "# filter dataframe by the following journals\n",
    "journals = ['Expert Systems with Applications','European Journal of Operational Research','Decision Support Systems','Journal of the Royal Statistical Society. Series A: Statistics in Society','Econometric Theory','Journal of Financial Stability','Annals of Operations Research','Journal of Banking and Finance','Operations Research','International Journal of Forecasting']\n",
    "df = df[df['prism:publicationName'].isin(journals)]\n",
    "df.shape\n",
    "\n",
    "# Get abstarct for each article\n",
    "abstracts = []\n",
    "for i in range(len(df)):\n",
    "    abstracts.append(df['dc:description'][i])\n",
    "\n",
    "# Clean abstracts\n",
    "abstracts_clean = []\n",
    "for i in range(len(abstracts)):\n",
    "    abstracts_clean.append(re.sub(r'[\\n\\r\\t]', ' ', abstracts[i]))\n",
    "\n",
    "# Save abstracts to a text file\n",
    "with open('abstracts.txt', 'w') as f:\n",
    "    for item in abstracts_clean:\n",
    "        f.write(\"%s\\n\" % item)\n",
    "#Create dataframe with abstracts, title, and journal\n",
    "df_abstracts = pd.DataFrame({'abstract':abstracts_clean,'title':df['dc:title'],'journal':df['prism:publicationName']})\n",
    "df_abstracts.head()"
   ]
  },
  {
   "cell_type": "code",
   "execution_count": 23,
   "metadata": {},
   "outputs": [
    {
     "name": "stdout",
     "output_type": "stream",
     "text": [
      "Number of journals: 83\n",
      "Proceedings - International Conference on Pattern Recognition 1\n",
      "Expert Systems with Applications 4\n",
      "Handbooks in Operations Research and Management Science 1\n",
      "Lecture Notes in Computer Science (including subseries Lecture Notes in Artificial Intelligence and Lecture Notes in Bioinformatics) 2\n",
      "Foundations and Trends in Technology, Information and Operations Management 3\n",
      "Complex Systems, Multi-Sided Incentives and Risk Perception in Companies 1\n",
      "Journal of the Royal Statistical Society. Series A: Statistics in Society 1\n",
      "IEEE Journal on Selected Topics in Signal Processing 1\n",
      "2009 International Conference on Business Intelligence and Financial Engineering, BIFE 2009 1\n",
      "Xitong Gongcheng Lilun yu Shijian/System Engineering Theory and Practice 1\n",
      "Advances in Neural Information Processing Systems 2\n",
      "SIAM Journal on Optimization 1\n",
      "Proceedings of the 26th Conference on Uncertainty in Artificial Intelligence, UAI 2010 1\n",
      "Academy of Banking Studies Journal 2\n",
      "Econometric Theory 1\n",
      "Mathematics of Operations Research 1\n",
      "Mathematical Problems in Engineering 1\n",
      "European Journal of Operational Research 6\n",
      "Operations Research for Health Care 1\n",
      "Journal of Systems Science and Complexity 1\n",
      "SIAM Journal on Financial Mathematics 1\n",
      "Research Advances in Intelligent Computing 1\n",
      "Central European Journal of Operations Research 1\n",
      "Engineering Applications of Artificial Intelligence 1\n",
      "SIAM Journal on Control and Optimization 1\n",
      "International Journal of Information Management Data Insights 1\n",
      "Journal of Financial Stability 1\n",
      "Lecture Notes in Networks and Systems 1\n",
      "Journal of Science and Technology Policy Management 1\n",
      "Frontiers of Mathematics in China 1\n",
      "Production and Operations Management 1\n",
      "Stochastic Processes with Applications to Finance, Second Edition 1\n",
      "International Journal of Information Technology and Decision Making 1\n",
      "Proceedings - International Computer Software and Applications Conference 1\n",
      "Operational Research 1\n",
      "Sustainability (Switzerland) 1\n",
      "Annals of Operations Research 4\n",
      "Operations Research Letters 1\n",
      "Context-Aware Computing 1\n",
      "Liaoning Gongcheng Jishu Daxue Xuebao (Ziran Kexue Ban)/Journal of Liaoning Technical University (Natural Science Edition) 1\n",
      "Quality and Quantity 1\n",
      "Journal of Industrial Engineering and Engineering Management 1\n",
      "International Journal of Modelling and Simulation 1\n",
      "Journal of Banking and Finance 1\n",
      "International Journal of Mathematics in Operational Research 1\n",
      "Linear and Multilinear Algebra 1\n",
      "Soft Computing 1\n",
      "Journal of Big Data 1\n",
      "Advances in Applied Probability 1\n",
      "Computational Economics 1\n",
      "Journal of Artificial Intelligence Research 1\n",
      "IEEE Access 3\n",
      "Applied Intelligence 1\n",
      "Journal of the Operational Research Society 2\n",
      "Communications in Statistics - Theory and Methods 1\n",
      "International Journal of Production Economics 2\n",
      "Nature Communications 1\n",
      "East Asian Journal on Applied Mathematics 1\n",
      "Consumer Credit Models: Pricing, Profit and Portfolios 1\n",
      "Electronics (Switzerland) 1\n",
      "TOP 1\n",
      "Operations Research 3\n",
      "Iranian journal of Management Studies 1\n",
      "Journal of Mathematics 1\n",
      "Mathematical Finance 1\n",
      "Science China Information Sciences 1\n",
      "Probability Theory and Stochastic Modelling 2\n",
      "Energies 2\n",
      "Proceedings - 2022 IEEE International Conference on Big Data, Big Data 2022 1\n",
      "SpringerPlus 1\n",
      "International Journal of Forecasting 1\n",
      "Proceedings - 2021 IEEE International Conference on Big Data, Big Data 2021 1\n",
      "Proceedings of Machine Learning Research 2\n",
      "Neural Computing and Applications 1\n",
      "Eksploatacja i Niezawodnosc 1\n",
      "Pattern Recognition 1\n",
      "International Journal of Uncertainty, Fuzziness and Knowldege-Based Systems 1\n",
      "Mathematics 1\n",
      "Forest Policy and Economics 1\n",
      "Journal of Economic Dynamics and Control 1\n",
      "Optimization and Engineering 1\n",
      "Manufacturing and Service Operations Management 3\n",
      "Springer Series in Supply Chain Management 1\n"
     ]
    }
   ],
   "source": [
    "# Extract journal names from doc_srch\n",
    "journal_names = []\n",
    "for result in doc_srch.results:\n",
    "    journal_names.append(result['prism:publicationName'])\n",
    "\n",
    "# Print the unqiue journal names and number of publication per journal\n",
    "journal_names_unique = list(set(journal_names))\n",
    "print(\"Number of journals:\", len(journal_names_unique))\n",
    "for journal_name in journal_names_unique:\n",
    "    print(journal_name, journal_names.count(journal_name))\n",
    "\n",
    "# Extract the publication years from doc_srch\n",
    "#years = []\n",
    "#for result in doc_srch.results:\n",
    "#    years.append(result['prism:coverDate'][0:4])\n",
    "    \n",
    "# Print the unqiue years and number of publication per year\n",
    "#years_unique = list(set(years))\n",
    "#print(\"Number of years:\", len(years_unique))\n",
    "#for year in years_unique:\n",
    "#    print(year, years.count(year))"
   ]
  },
  {
   "cell_type": "code",
   "execution_count": 29,
   "metadata": {},
   "outputs": [
    {
     "name": "stdout",
     "output_type": "stream",
     "text": [
      "\"Markov decision process\" AND \"credit risk\" AND (journals('Expert Systems with Applications') OR journals('European Journal of Operational Research') OR journals('Decision Support Systems') OR journals('Journal of the Royal Statistical Society. Series A: Statistics in Society') OR journals('Econometric Theory') OR journals('Journal of Financial Stability') OR journals('Annals of Operations Research') OR journals('Journal of Banking and Finance') OR journals('Operations Research') OR journals('International Journal of Forecasting'))\n"
     ]
    },
    {
     "ename": "HTTPError",
     "evalue": "HTTP 400 Error from https://api.elsevier.com/content/search/scopus?query=%22Markov+decision+process%22+AND+%22credit+risk%22+AND+%28journals%28%27Expert+Systems+with+Applications%27%29+OR+journals%28%27European+Journal+of+Operational+Research%27%29+OR+journals%28%27Decision+Support+Systems%27%29+OR+journals%28%27Journal+of+the+Royal+Statistical+Society.+Series+A%3A+Statistics+in+Society%27%29+OR+journals%28%27Econometric+Theory%27%29+OR+journals%28%27Journal+of+Financial+Stability%27%29+OR+journals%28%27Annals+of+Operations+Research%27%29+OR+journals%28%27Journal+of+Banking+and+Finance%27%29+OR+journals%28%27Operations+Research%27%29+OR+journals%28%27International+Journal+of+Forecasting%27%29%29\nand using headers {'X-ELS-APIKey': 'f0978479b7fe5e42838f26c47d1fc9f2', 'User-Agent': 'elsapy-v0.5.1', 'Accept': 'application/json'}:\n{\"service-error\":{\"status\":{\"statusCode\":\"INVALID_INPUT\",\"statusText\":\"Error translating query\"}}}",
     "output_type": "error",
     "traceback": [
      "\u001b[0;31m---------------------------------------------------------------------------\u001b[0m",
      "\u001b[0;31mHTTPError\u001b[0m                                 Traceback (most recent call last)",
      "\u001b[1;32m/Users/quinference/Documents/msc-ai/assessment_project/scopus_search.ipynb Cell 4\u001b[0m line \u001b[0;36m8\n\u001b[1;32m      <a href='vscode-notebook-cell:/Users/quinference/Documents/msc-ai/assessment_project/scopus_search.ipynb#W5sZmlsZQ%3D%3D?line=5'>6</a>\u001b[0m \u001b[39mprint\u001b[39m(combined_query)\n\u001b[1;32m      <a href='vscode-notebook-cell:/Users/quinference/Documents/msc-ai/assessment_project/scopus_search.ipynb#W5sZmlsZQ%3D%3D?line=6'>7</a>\u001b[0m doc_srch \u001b[39m=\u001b[39m ElsSearch(combined_query, \u001b[39m'\u001b[39m\u001b[39mscopus\u001b[39m\u001b[39m'\u001b[39m)\n\u001b[0;32m----> <a href='vscode-notebook-cell:/Users/quinference/Documents/msc-ai/assessment_project/scopus_search.ipynb#W5sZmlsZQ%3D%3D?line=7'>8</a>\u001b[0m doc_srch\u001b[39m.\u001b[39;49mexecute(client, get_all\u001b[39m=\u001b[39;49m\u001b[39mTrue\u001b[39;49;00m)\n\u001b[1;32m      <a href='vscode-notebook-cell:/Users/quinference/Documents/msc-ai/assessment_project/scopus_search.ipynb#W5sZmlsZQ%3D%3D?line=8'>9</a>\u001b[0m \u001b[39mprint\u001b[39m(\u001b[39m\"\u001b[39m\u001b[39mNumber of search results:\u001b[39m\u001b[39m\"\u001b[39m, \u001b[39mlen\u001b[39m(doc_srch\u001b[39m.\u001b[39mresults))\n",
      "File \u001b[0;32m~/Documents/msc-ai/torchy/lib/python3.11/site-packages/elsapy/elssearch.py:108\u001b[0m, in \u001b[0;36mElsSearch.execute\u001b[0;34m(self, els_client, get_all, use_cursor, view, count, fields)\u001b[0m\n\u001b[1;32m    106\u001b[0m \u001b[39mif\u001b[39;00m view:\n\u001b[1;32m    107\u001b[0m     url \u001b[39m+\u001b[39m\u001b[39m=\u001b[39m \u001b[39m\"\u001b[39m\u001b[39m&view=\u001b[39m\u001b[39m{}\u001b[39;00m\u001b[39m\"\u001b[39m\u001b[39m.\u001b[39mformat(view)\n\u001b[0;32m--> 108\u001b[0m api_response \u001b[39m=\u001b[39m els_client\u001b[39m.\u001b[39;49mexec_request(url)\n\u001b[1;32m    109\u001b[0m \u001b[39mself\u001b[39m\u001b[39m.\u001b[39m_tot_num_res \u001b[39m=\u001b[39m \u001b[39mint\u001b[39m(api_response[\u001b[39m'\u001b[39m\u001b[39msearch-results\u001b[39m\u001b[39m'\u001b[39m][\u001b[39m'\u001b[39m\u001b[39mopensearch:totalResults\u001b[39m\u001b[39m'\u001b[39m])\n\u001b[1;32m    110\u001b[0m \u001b[39mself\u001b[39m\u001b[39m.\u001b[39m_results \u001b[39m=\u001b[39m api_response[\u001b[39m'\u001b[39m\u001b[39msearch-results\u001b[39m\u001b[39m'\u001b[39m][\u001b[39m'\u001b[39m\u001b[39mentry\u001b[39m\u001b[39m'\u001b[39m]\n",
      "File \u001b[0;32m~/Documents/msc-ai/torchy/lib/python3.11/site-packages/elsapy/elsclient.py:121\u001b[0m, in \u001b[0;36mElsClient.exec_request\u001b[0;34m(self, URL)\u001b[0m\n\u001b[1;32m    119\u001b[0m \u001b[39melse\u001b[39;00m:\n\u001b[1;32m    120\u001b[0m     \u001b[39mself\u001b[39m\u001b[39m.\u001b[39m_status_msg\u001b[39m=\u001b[39m\u001b[39m\"\u001b[39m\u001b[39mHTTP \u001b[39m\u001b[39m\"\u001b[39m \u001b[39m+\u001b[39m \u001b[39mstr\u001b[39m(r\u001b[39m.\u001b[39mstatus_code) \u001b[39m+\u001b[39m \u001b[39m\"\u001b[39m\u001b[39m Error from \u001b[39m\u001b[39m\"\u001b[39m \u001b[39m+\u001b[39m URL \u001b[39m+\u001b[39m \u001b[39m\"\u001b[39m\u001b[39m and using headers \u001b[39m\u001b[39m\"\u001b[39m \u001b[39m+\u001b[39m \u001b[39mstr\u001b[39m(headers) \u001b[39m+\u001b[39m \u001b[39m\"\u001b[39m\u001b[39m: \u001b[39m\u001b[39m\"\u001b[39m \u001b[39m+\u001b[39m r\u001b[39m.\u001b[39mtext\n\u001b[0;32m--> 121\u001b[0m     \u001b[39mraise\u001b[39;00m requests\u001b[39m.\u001b[39mHTTPError(\u001b[39m\"\u001b[39m\u001b[39mHTTP \u001b[39m\u001b[39m\"\u001b[39m \u001b[39m+\u001b[39m \u001b[39mstr\u001b[39m(r\u001b[39m.\u001b[39mstatus_code) \u001b[39m+\u001b[39m \u001b[39m\"\u001b[39m\u001b[39m Error from \u001b[39m\u001b[39m\"\u001b[39m \u001b[39m+\u001b[39m URL \u001b[39m+\u001b[39m \u001b[39m\"\u001b[39m\u001b[39m\\n\u001b[39;00m\u001b[39mand using headers \u001b[39m\u001b[39m\"\u001b[39m \u001b[39m+\u001b[39m \u001b[39mstr\u001b[39m(headers) \u001b[39m+\u001b[39m \u001b[39m\"\u001b[39m\u001b[39m:\u001b[39m\u001b[39m\\n\u001b[39;00m\u001b[39m\"\u001b[39m \u001b[39m+\u001b[39m r\u001b[39m.\u001b[39mtext)\n",
      "\u001b[0;31mHTTPError\u001b[0m: HTTP 400 Error from https://api.elsevier.com/content/search/scopus?query=%22Markov+decision+process%22+AND+%22credit+risk%22+AND+%28journals%28%27Expert+Systems+with+Applications%27%29+OR+journals%28%27European+Journal+of+Operational+Research%27%29+OR+journals%28%27Decision+Support+Systems%27%29+OR+journals%28%27Journal+of+the+Royal+Statistical+Society.+Series+A%3A+Statistics+in+Society%27%29+OR+journals%28%27Econometric+Theory%27%29+OR+journals%28%27Journal+of+Financial+Stability%27%29+OR+journals%28%27Annals+of+Operations+Research%27%29+OR+journals%28%27Journal+of+Banking+and+Finance%27%29+OR+journals%28%27Operations+Research%27%29+OR+journals%28%27International+Journal+of+Forecasting%27%29%29\nand using headers {'X-ELS-APIKey': 'f0978479b7fe5e42838f26c47d1fc9f2', 'User-Agent': 'elsapy-v0.5.1', 'Accept': 'application/json'}:\n{\"service-error\":{\"status\":{\"statusCode\":\"INVALID_INPUT\",\"statusText\":\"Error translating query\"}}}"
     ]
    }
   ],
   "source": [
    "# Subset the articles from the doc_srch for the following journals, Expert Systems with Applications, European Journal of Operational Research, and Decision Support Systems,Journal of the Royal Statistical Society. Series A: Statistics in Society,Econometric Theory,Journal of Financial Stability,Annals of Operations Research,Journal of Banking and Finance,Operations Research, and International Journal of Forecasting\n",
    "# Combine the query and journal list using the journals() operator\n",
    "journal_query = ' OR '.join([f\"journals('{j}')\" for j in journals])\n",
    "combined_query = f\"{query} AND ({journal_query})\"\n",
    "print(combined_query)\n",
    "doc_srch = ElsSearch(combined_query, 'scopus')\n",
    "doc_srch.execute(client, get_all=True)\n",
    "print(\"Number of search results:\", len(doc_srch.results))"
   ]
  },
  {
   "cell_type": "code",
   "execution_count": 30,
   "metadata": {},
   "outputs": [
    {
     "name": "stdout",
     "output_type": "stream",
     "text": [
      "\"Markov decision process\" AND \"credit risk\" AND (journals('Expert Systems with Applications') OR journals('European Journal of Operational Research') OR journals('Decision Support Systems') OR journals('Journal of the Royal Statistical Society. Series A: Statistics in Society') OR journals('Econometric Theory') OR journals('Journal of Financial Stability') OR journals('Annals of Operations Research') OR journals('Journal of Banking and Finance') OR journals('Operations Research') OR journals('International Journal of Forecasting')) AND (pubyear = 2015 OR pubyear = 2016 OR pubyear = 2017 OR pubyear = 2018 OR pubyear = 2019)\n"
     ]
    },
    {
     "ename": "HTTPError",
     "evalue": "HTTP 400 Error from https://api.elsevier.com/content/search/scopus?query=%22Markov+decision+process%22+AND+%22credit+risk%22+AND+%28journals%28%27Expert+Systems+with+Applications%27%29+OR+journals%28%27European+Journal+of+Operational+Research%27%29+OR+journals%28%27Decision+Support+Systems%27%29+OR+journals%28%27Journal+of+the+Royal+Statistical+Society.+Series+A%3A+Statistics+in+Society%27%29+OR+journals%28%27Econometric+Theory%27%29+OR+journals%28%27Journal+of+Financial+Stability%27%29+OR+journals%28%27Annals+of+Operations+Research%27%29+OR+journals%28%27Journal+of+Banking+and+Finance%27%29+OR+journals%28%27Operations+Research%27%29+OR+journals%28%27International+Journal+of+Forecasting%27%29%29+AND+%28pubyear+%3D+2015+OR+pubyear+%3D+2016+OR+pubyear+%3D+2017+OR+pubyear+%3D+2018+OR+pubyear+%3D+2019%29\nand using headers {'X-ELS-APIKey': 'f0978479b7fe5e42838f26c47d1fc9f2', 'User-Agent': 'elsapy-v0.5.1', 'Accept': 'application/json'}:\n{\"service-error\":{\"status\":{\"statusCode\":\"INVALID_INPUT\",\"statusText\":\"Error translating query\"}}}",
     "output_type": "error",
     "traceback": [
      "\u001b[0;31m---------------------------------------------------------------------------\u001b[0m",
      "\u001b[0;31mHTTPError\u001b[0m                                 Traceback (most recent call last)",
      "\u001b[1;32m/Users/quinference/Documents/msc-ai/assessment_project/scopus_search.ipynb Cell 5\u001b[0m line \u001b[0;36m8\n\u001b[1;32m      <a href='vscode-notebook-cell:/Users/quinference/Documents/msc-ai/assessment_project/scopus_search.ipynb#X10sZmlsZQ%3D%3D?line=5'>6</a>\u001b[0m \u001b[39mprint\u001b[39m(combined_query)\n\u001b[1;32m      <a href='vscode-notebook-cell:/Users/quinference/Documents/msc-ai/assessment_project/scopus_search.ipynb#X10sZmlsZQ%3D%3D?line=6'>7</a>\u001b[0m doc_srch \u001b[39m=\u001b[39m ElsSearch(combined_query, \u001b[39m'\u001b[39m\u001b[39mscopus\u001b[39m\u001b[39m'\u001b[39m)\n\u001b[0;32m----> <a href='vscode-notebook-cell:/Users/quinference/Documents/msc-ai/assessment_project/scopus_search.ipynb#X10sZmlsZQ%3D%3D?line=7'>8</a>\u001b[0m doc_srch\u001b[39m.\u001b[39;49mexecute(client, get_all\u001b[39m=\u001b[39;49m\u001b[39mTrue\u001b[39;49;00m)\n\u001b[1;32m      <a href='vscode-notebook-cell:/Users/quinference/Documents/msc-ai/assessment_project/scopus_search.ipynb#X10sZmlsZQ%3D%3D?line=8'>9</a>\u001b[0m \u001b[39mprint\u001b[39m(\u001b[39m\"\u001b[39m\u001b[39mNumber of search results:\u001b[39m\u001b[39m\"\u001b[39m, \u001b[39mlen\u001b[39m(doc_srch\u001b[39m.\u001b[39mresults))\n",
      "File \u001b[0;32m~/Documents/msc-ai/torchy/lib/python3.11/site-packages/elsapy/elssearch.py:108\u001b[0m, in \u001b[0;36mElsSearch.execute\u001b[0;34m(self, els_client, get_all, use_cursor, view, count, fields)\u001b[0m\n\u001b[1;32m    106\u001b[0m \u001b[39mif\u001b[39;00m view:\n\u001b[1;32m    107\u001b[0m     url \u001b[39m+\u001b[39m\u001b[39m=\u001b[39m \u001b[39m\"\u001b[39m\u001b[39m&view=\u001b[39m\u001b[39m{}\u001b[39;00m\u001b[39m\"\u001b[39m\u001b[39m.\u001b[39mformat(view)\n\u001b[0;32m--> 108\u001b[0m api_response \u001b[39m=\u001b[39m els_client\u001b[39m.\u001b[39;49mexec_request(url)\n\u001b[1;32m    109\u001b[0m \u001b[39mself\u001b[39m\u001b[39m.\u001b[39m_tot_num_res \u001b[39m=\u001b[39m \u001b[39mint\u001b[39m(api_response[\u001b[39m'\u001b[39m\u001b[39msearch-results\u001b[39m\u001b[39m'\u001b[39m][\u001b[39m'\u001b[39m\u001b[39mopensearch:totalResults\u001b[39m\u001b[39m'\u001b[39m])\n\u001b[1;32m    110\u001b[0m \u001b[39mself\u001b[39m\u001b[39m.\u001b[39m_results \u001b[39m=\u001b[39m api_response[\u001b[39m'\u001b[39m\u001b[39msearch-results\u001b[39m\u001b[39m'\u001b[39m][\u001b[39m'\u001b[39m\u001b[39mentry\u001b[39m\u001b[39m'\u001b[39m]\n",
      "File \u001b[0;32m~/Documents/msc-ai/torchy/lib/python3.11/site-packages/elsapy/elsclient.py:121\u001b[0m, in \u001b[0;36mElsClient.exec_request\u001b[0;34m(self, URL)\u001b[0m\n\u001b[1;32m    119\u001b[0m \u001b[39melse\u001b[39;00m:\n\u001b[1;32m    120\u001b[0m     \u001b[39mself\u001b[39m\u001b[39m.\u001b[39m_status_msg\u001b[39m=\u001b[39m\u001b[39m\"\u001b[39m\u001b[39mHTTP \u001b[39m\u001b[39m\"\u001b[39m \u001b[39m+\u001b[39m \u001b[39mstr\u001b[39m(r\u001b[39m.\u001b[39mstatus_code) \u001b[39m+\u001b[39m \u001b[39m\"\u001b[39m\u001b[39m Error from \u001b[39m\u001b[39m\"\u001b[39m \u001b[39m+\u001b[39m URL \u001b[39m+\u001b[39m \u001b[39m\"\u001b[39m\u001b[39m and using headers \u001b[39m\u001b[39m\"\u001b[39m \u001b[39m+\u001b[39m \u001b[39mstr\u001b[39m(headers) \u001b[39m+\u001b[39m \u001b[39m\"\u001b[39m\u001b[39m: \u001b[39m\u001b[39m\"\u001b[39m \u001b[39m+\u001b[39m r\u001b[39m.\u001b[39mtext\n\u001b[0;32m--> 121\u001b[0m     \u001b[39mraise\u001b[39;00m requests\u001b[39m.\u001b[39mHTTPError(\u001b[39m\"\u001b[39m\u001b[39mHTTP \u001b[39m\u001b[39m\"\u001b[39m \u001b[39m+\u001b[39m \u001b[39mstr\u001b[39m(r\u001b[39m.\u001b[39mstatus_code) \u001b[39m+\u001b[39m \u001b[39m\"\u001b[39m\u001b[39m Error from \u001b[39m\u001b[39m\"\u001b[39m \u001b[39m+\u001b[39m URL \u001b[39m+\u001b[39m \u001b[39m\"\u001b[39m\u001b[39m\\n\u001b[39;00m\u001b[39mand using headers \u001b[39m\u001b[39m\"\u001b[39m \u001b[39m+\u001b[39m \u001b[39mstr\u001b[39m(headers) \u001b[39m+\u001b[39m \u001b[39m\"\u001b[39m\u001b[39m:\u001b[39m\u001b[39m\\n\u001b[39;00m\u001b[39m\"\u001b[39m \u001b[39m+\u001b[39m r\u001b[39m.\u001b[39mtext)\n",
      "\u001b[0;31mHTTPError\u001b[0m: HTTP 400 Error from https://api.elsevier.com/content/search/scopus?query=%22Markov+decision+process%22+AND+%22credit+risk%22+AND+%28journals%28%27Expert+Systems+with+Applications%27%29+OR+journals%28%27European+Journal+of+Operational+Research%27%29+OR+journals%28%27Decision+Support+Systems%27%29+OR+journals%28%27Journal+of+the+Royal+Statistical+Society.+Series+A%3A+Statistics+in+Society%27%29+OR+journals%28%27Econometric+Theory%27%29+OR+journals%28%27Journal+of+Financial+Stability%27%29+OR+journals%28%27Annals+of+Operations+Research%27%29+OR+journals%28%27Journal+of+Banking+and+Finance%27%29+OR+journals%28%27Operations+Research%27%29+OR+journals%28%27International+Journal+of+Forecasting%27%29%29+AND+%28pubyear+%3D+2015+OR+pubyear+%3D+2016+OR+pubyear+%3D+2017+OR+pubyear+%3D+2018+OR+pubyear+%3D+2019%29\nand using headers {'X-ELS-APIKey': 'f0978479b7fe5e42838f26c47d1fc9f2', 'User-Agent': 'elsapy-v0.5.1', 'Accept': 'application/json'}:\n{\"service-error\":{\"status\":{\"statusCode\":\"INVALID_INPUT\",\"statusText\":\"Error translating query\"}}}"
     ]
    }
   ],
   "source": []
  },
  {
   "cell_type": "code",
   "execution_count": 22,
   "metadata": {},
   "outputs": [
    {
     "name": "stdout",
     "output_type": "stream",
     "text": [
      "Number of citations: 41\n",
      "0 21\n",
      "45 1\n",
      "22 2\n",
      "20 1\n",
      "12 4\n",
      "35 1\n",
      "8 1\n",
      "68 1\n",
      "29 1\n",
      "18 1\n",
      "14 3\n",
      "38 1\n",
      "40 1\n",
      "27 1\n",
      "56 1\n",
      "3 8\n",
      "232 1\n",
      "73 1\n",
      "629 1\n",
      "46 1\n",
      "207 1\n",
      "116 1\n",
      "5 6\n",
      "571 1\n",
      "77 1\n",
      "129 1\n",
      "17 2\n",
      "11 1\n",
      "6 3\n",
      "69 1\n",
      "1 8\n",
      "2 8\n",
      "10 1\n",
      "623 1\n",
      "7 9\n",
      "62 1\n",
      "135 1\n",
      "60 1\n",
      "4 6\n",
      "9 2\n",
      "15 1\n"
     ]
    },
    {
     "ename": "KeyError",
     "evalue": "'authkeywords'",
     "output_type": "error",
     "traceback": [
      "\u001b[0;31m---------------------------------------------------------------------------\u001b[0m",
      "\u001b[0;31mKeyError\u001b[0m                                  Traceback (most recent call last)",
      "\u001b[1;32m/Users/quinference/Documents/msc-ai/assessment_project/scopus_search.ipynb Cell 4\u001b[0m line \u001b[0;36m1\n\u001b[1;32m     <a href='vscode-notebook-cell:/Users/quinference/Documents/msc-ai/assessment_project/scopus_search.ipynb#W4sZmlsZQ%3D%3D?line=12'>13</a>\u001b[0m keywords \u001b[39m=\u001b[39m []\n\u001b[1;32m     <a href='vscode-notebook-cell:/Users/quinference/Documents/msc-ai/assessment_project/scopus_search.ipynb#W4sZmlsZQ%3D%3D?line=13'>14</a>\u001b[0m \u001b[39mfor\u001b[39;00m result \u001b[39min\u001b[39;00m doc_srch\u001b[39m.\u001b[39mresults:\n\u001b[0;32m---> <a href='vscode-notebook-cell:/Users/quinference/Documents/msc-ai/assessment_project/scopus_search.ipynb#W4sZmlsZQ%3D%3D?line=14'>15</a>\u001b[0m     keywords\u001b[39m.\u001b[39mappend(result[\u001b[39m'\u001b[39;49m\u001b[39mauthkeywords\u001b[39;49m\u001b[39m'\u001b[39;49m])\n\u001b[1;32m     <a href='vscode-notebook-cell:/Users/quinference/Documents/msc-ai/assessment_project/scopus_search.ipynb#W4sZmlsZQ%3D%3D?line=16'>17</a>\u001b[0m \u001b[39m# Print the unqiue keywords and number of publication per keyword\u001b[39;00m\n\u001b[1;32m     <a href='vscode-notebook-cell:/Users/quinference/Documents/msc-ai/assessment_project/scopus_search.ipynb#W4sZmlsZQ%3D%3D?line=17'>18</a>\u001b[0m keywords_unique \u001b[39m=\u001b[39m \u001b[39mlist\u001b[39m(\u001b[39mset\u001b[39m(keywords))\n",
      "\u001b[0;31mKeyError\u001b[0m: 'authkeywords'"
     ]
    }
   ],
   "source": [
    "# Extract the number of citations from doc_srch\n",
    "citations = []\n",
    "for result in doc_srch.results:\n",
    "    citations.append(result['citedby-count'])\n",
    "    \n",
    "# Print the unqiue number of citations and number of publication per number of citations\n",
    "citations_unique = list(set(citations))\n",
    "print(\"Number of citations:\", len(citations_unique))\n",
    "for citation in citations_unique:\n",
    "    print(citation, citations.count(citation))\n",
    "\n",
    "# Print keywords\n",
    "keywords = []\n",
    "for result in doc_srch.results:\n",
    "    keywords.append(result['authkeywords'])\n",
    "\n",
    "# Print the unqiue keywords and number of publication per keyword\n",
    "keywords_unique = list(set(keywords))\n",
    "print(\"Number of keywords:\", len(keywords_unique))\n",
    "for keyword in keywords_unique:\n",
    "    print(keyword, keywords.count(keyword))\n"
   ]
  }
 ],
 "metadata": {
  "kernelspec": {
   "display_name": "torchy",
   "language": "python",
   "name": "python3"
  },
  "language_info": {
   "codemirror_mode": {
    "name": "ipython",
    "version": 3
   },
   "file_extension": ".py",
   "mimetype": "text/x-python",
   "name": "python",
   "nbconvert_exporter": "python",
   "pygments_lexer": "ipython3",
   "version": "3.11.5"
  },
  "orig_nbformat": 4
 },
 "nbformat": 4,
 "nbformat_minor": 2
}
