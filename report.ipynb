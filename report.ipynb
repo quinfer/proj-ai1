{
 "cells": [
  {
   "cell_type": "raw",
   "metadata": {},
   "source": [
    "---\n",
    "title: \"Foundations of AI Project\"\n",
    "subtitle: \"Predicting probability of consumer credit default using AI\"\n",
    "author: \"Barry Quinn\"\n",
    "date: \"2020-20-01\"\n",
    "bibliography: refs.bib\n",
    "---"
   ]
  },
  {
   "cell_type": "markdown",
   "metadata": {},
   "source": [
    "## Introduction"
   ]
  },
  {
   "cell_type": "markdown",
   "metadata": {},
   "source": [
    "Understand the creditworthiness of a customer is a key task for banks. In this project, we will use the data from a German bank to build a credit scoring model to predict the probability of default. The data is from [UCI Machine Learning Repository](https://archive.ics.uci.edu/ml/datasets/statlog+(german+credit+data)).\n",
    "The data contains 1000 entries with 20 features. The features are a mix of numeric and categorical variables. The target variable is a binary variable indicating whether the customer is a good or bad credit risk. The data is split into 700 training and 300 testing samples. The goal is to build a model to predict the probability of default for the testing samples.\n",
    "While extension of credit can be traced back to babylonian times, the history of credit scoring classification can be traced back to a 1941 study distinguish good loans from bad loans [@crook.2006].  Since then there has been a \n",
    "\n",
    "\n",
    "Predicting the probability of default using machine learing techniques has a long history in finance.  The first credit scoring model was developed in 1958 by Fair Isaac Corporation (FICO). The FICO score is still the most widely used credit score in the world. The FICO score is based on a logistic regression model. In this project, we will build a logistic regression model and compare its performance with other machine learning models.\n",
    "\n"
   ]
  },
  {
   "cell_type": "code",
   "execution_count": 48,
   "metadata": {},
   "outputs": [],
   "source": [
    "# load packages\n",
    "import pandas as pd\n",
    "import numpy as np\n",
    "import matplotlib.pyplot as plt\n",
    "import seaborn as sns\n",
    "import os\n",
    "import sys\n",
    "import warnings\n",
    "warnings.filterwarnings('ignore')"
   ]
  },
  {
   "cell_type": "markdown",
   "metadata": {},
   "source": [
    "### Exploratory Data Analysis\n",
    "\n",
    "1. Eyeball the raw data\n",
    "2. Check the data types\n",
    "3. Check the missing values\n",
    "4. Check the outliers\n",
    "5. Check the correlations\n",
    "6. descriptive statistics for numerical variables\n",
    "7. descriptive statistics for categorical variables\n"
   ]
  },
  {
   "cell_type": "code",
   "execution_count": 49,
   "metadata": {},
   "outputs": [
    {
     "data": {
      "text/html": [
       "<div>\n",
       "<style scoped>\n",
       "    .dataframe tbody tr th:only-of-type {\n",
       "        vertical-align: middle;\n",
       "    }\n",
       "\n",
       "    .dataframe tbody tr th {\n",
       "        vertical-align: top;\n",
       "    }\n",
       "\n",
       "    .dataframe thead th {\n",
       "        text-align: right;\n",
       "    }\n",
       "</style>\n",
       "<table border=\"1\" class=\"dataframe\">\n",
       "  <thead>\n",
       "    <tr style=\"text-align: right;\">\n",
       "      <th></th>\n",
       "      <th>checking_balance</th>\n",
       "      <th>months_loan_duration</th>\n",
       "      <th>credit_history</th>\n",
       "      <th>purpose</th>\n",
       "      <th>amount</th>\n",
       "      <th>savings_balance</th>\n",
       "      <th>employment_duration</th>\n",
       "      <th>percent_of_income</th>\n",
       "      <th>years_at_residence</th>\n",
       "      <th>age</th>\n",
       "      <th>other_credit</th>\n",
       "      <th>housing</th>\n",
       "      <th>existing_loans_count</th>\n",
       "      <th>job</th>\n",
       "      <th>dependents</th>\n",
       "      <th>phone</th>\n",
       "      <th>default</th>\n",
       "    </tr>\n",
       "  </thead>\n",
       "  <tbody>\n",
       "    <tr>\n",
       "      <th>0</th>\n",
       "      <td>&lt; 0 DM</td>\n",
       "      <td>6</td>\n",
       "      <td>critical</td>\n",
       "      <td>furniture/appliances</td>\n",
       "      <td>1169</td>\n",
       "      <td>unknown</td>\n",
       "      <td>&gt; 7 years</td>\n",
       "      <td>4</td>\n",
       "      <td>4</td>\n",
       "      <td>67</td>\n",
       "      <td>none</td>\n",
       "      <td>own</td>\n",
       "      <td>2</td>\n",
       "      <td>skilled</td>\n",
       "      <td>1</td>\n",
       "      <td>yes</td>\n",
       "      <td>no</td>\n",
       "    </tr>\n",
       "    <tr>\n",
       "      <th>1</th>\n",
       "      <td>1 - 200 DM</td>\n",
       "      <td>48</td>\n",
       "      <td>good</td>\n",
       "      <td>furniture/appliances</td>\n",
       "      <td>5951</td>\n",
       "      <td>&lt; 100 DM</td>\n",
       "      <td>1 - 4 years</td>\n",
       "      <td>2</td>\n",
       "      <td>2</td>\n",
       "      <td>22</td>\n",
       "      <td>none</td>\n",
       "      <td>own</td>\n",
       "      <td>1</td>\n",
       "      <td>skilled</td>\n",
       "      <td>1</td>\n",
       "      <td>no</td>\n",
       "      <td>yes</td>\n",
       "    </tr>\n",
       "    <tr>\n",
       "      <th>2</th>\n",
       "      <td>unknown</td>\n",
       "      <td>12</td>\n",
       "      <td>critical</td>\n",
       "      <td>education</td>\n",
       "      <td>2096</td>\n",
       "      <td>&lt; 100 DM</td>\n",
       "      <td>4 - 7 years</td>\n",
       "      <td>2</td>\n",
       "      <td>3</td>\n",
       "      <td>49</td>\n",
       "      <td>none</td>\n",
       "      <td>own</td>\n",
       "      <td>1</td>\n",
       "      <td>unskilled</td>\n",
       "      <td>2</td>\n",
       "      <td>no</td>\n",
       "      <td>no</td>\n",
       "    </tr>\n",
       "    <tr>\n",
       "      <th>3</th>\n",
       "      <td>&lt; 0 DM</td>\n",
       "      <td>42</td>\n",
       "      <td>good</td>\n",
       "      <td>furniture/appliances</td>\n",
       "      <td>7882</td>\n",
       "      <td>&lt; 100 DM</td>\n",
       "      <td>4 - 7 years</td>\n",
       "      <td>2</td>\n",
       "      <td>4</td>\n",
       "      <td>45</td>\n",
       "      <td>none</td>\n",
       "      <td>other</td>\n",
       "      <td>1</td>\n",
       "      <td>skilled</td>\n",
       "      <td>2</td>\n",
       "      <td>no</td>\n",
       "      <td>no</td>\n",
       "    </tr>\n",
       "    <tr>\n",
       "      <th>4</th>\n",
       "      <td>&lt; 0 DM</td>\n",
       "      <td>24</td>\n",
       "      <td>poor</td>\n",
       "      <td>car</td>\n",
       "      <td>4870</td>\n",
       "      <td>&lt; 100 DM</td>\n",
       "      <td>1 - 4 years</td>\n",
       "      <td>3</td>\n",
       "      <td>4</td>\n",
       "      <td>53</td>\n",
       "      <td>none</td>\n",
       "      <td>other</td>\n",
       "      <td>2</td>\n",
       "      <td>skilled</td>\n",
       "      <td>2</td>\n",
       "      <td>no</td>\n",
       "      <td>yes</td>\n",
       "    </tr>\n",
       "  </tbody>\n",
       "</table>\n",
       "</div>"
      ],
      "text/plain": [
       "  checking_balance  months_loan_duration credit_history               purpose  \\\n",
       "0           < 0 DM                     6       critical  furniture/appliances   \n",
       "1       1 - 200 DM                    48           good  furniture/appliances   \n",
       "2          unknown                    12       critical             education   \n",
       "3           < 0 DM                    42           good  furniture/appliances   \n",
       "4           < 0 DM                    24           poor                   car   \n",
       "\n",
       "   amount savings_balance employment_duration  percent_of_income  \\\n",
       "0    1169         unknown           > 7 years                  4   \n",
       "1    5951        < 100 DM         1 - 4 years                  2   \n",
       "2    2096        < 100 DM         4 - 7 years                  2   \n",
       "3    7882        < 100 DM         4 - 7 years                  2   \n",
       "4    4870        < 100 DM         1 - 4 years                  3   \n",
       "\n",
       "   years_at_residence  age other_credit housing  existing_loans_count  \\\n",
       "0                   4   67         none     own                     2   \n",
       "1                   2   22         none     own                     1   \n",
       "2                   3   49         none     own                     1   \n",
       "3                   4   45         none   other                     1   \n",
       "4                   4   53         none   other                     2   \n",
       "\n",
       "         job  dependents phone default  \n",
       "0    skilled           1   yes      no  \n",
       "1    skilled           1    no     yes  \n",
       "2  unskilled           2    no      no  \n",
       "3    skilled           2    no      no  \n",
       "4    skilled           2    no     yes  "
      ]
     },
     "execution_count": 49,
     "metadata": {},
     "output_type": "execute_result"
    }
   ],
   "source": [
    "# load the data\n",
    "dat_raw =pd.read_csv('credit.csv')\n",
    "dat_raw.head()"
   ]
  },
  {
   "cell_type": "code",
   "execution_count": 50,
   "metadata": {},
   "outputs": [
    {
     "data": {
      "text/plain": [
       "checking_balance        0\n",
       "months_loan_duration    0\n",
       "credit_history          0\n",
       "purpose                 0\n",
       "amount                  0\n",
       "savings_balance         0\n",
       "employment_duration     0\n",
       "percent_of_income       0\n",
       "years_at_residence      0\n",
       "age                     0\n",
       "other_credit            0\n",
       "housing                 0\n",
       "existing_loans_count    0\n",
       "job                     0\n",
       "dependents              0\n",
       "phone                   0\n",
       "default                 0\n",
       "dtype: int64"
      ]
     },
     "execution_count": 50,
     "metadata": {},
     "output_type": "execute_result"
    }
   ],
   "source": [
    "# check the data for missing values\n",
    "dat_raw.isnull().sum()"
   ]
  },
  {
   "cell_type": "code",
   "execution_count": 51,
   "metadata": {},
   "outputs": [
    {
     "data": {
      "text/plain": [
       "checking_balance        object\n",
       "months_loan_duration     int64\n",
       "credit_history          object\n",
       "purpose                 object\n",
       "amount                   int64\n",
       "savings_balance         object\n",
       "employment_duration     object\n",
       "percent_of_income        int64\n",
       "years_at_residence       int64\n",
       "age                      int64\n",
       "other_credit            object\n",
       "housing                 object\n",
       "existing_loans_count     int64\n",
       "job                     object\n",
       "dependents               int64\n",
       "phone                   object\n",
       "default                 object\n",
       "dtype: object"
      ]
     },
     "execution_count": 51,
     "metadata": {},
     "output_type": "execute_result"
    }
   ],
   "source": [
    "# check data for categorical variables\n",
    "dat_raw.dtypes"
   ]
  },
  {
   "cell_type": "code",
   "execution_count": 52,
   "metadata": {},
   "outputs": [
    {
     "name": "stdout",
     "output_type": "stream",
     "text": [
      "+----------------------+---------+----------+-------------+-------+--------+--------+---------+-------+\n",
      "|                      |   count |     mean |         std |   min |    25% |    50% |     75% |   max |\n",
      "|----------------------+---------+----------+-------------+-------+--------+--------+---------+-------|\n",
      "| months_loan_duration |    1000 |   20.903 |   12.0588   |     4 |   12   |   18   |   24    |    72 |\n",
      "| amount               |    1000 | 3271.26  | 2822.74     |   250 | 1365.5 | 2319.5 | 3972.25 | 18424 |\n",
      "| percent_of_income    |    1000 |    2.973 |    1.11871  |     1 |    2   |    3   |    4    |     4 |\n",
      "| years_at_residence   |    1000 |    2.845 |    1.10372  |     1 |    2   |    3   |    4    |     4 |\n",
      "| age                  |    1000 |   35.546 |   11.3755   |    19 |   27   |   33   |   42    |    75 |\n",
      "| existing_loans_count |    1000 |    1.407 |    0.577654 |     1 |    1   |    1   |    2    |     4 |\n",
      "| dependents           |    1000 |    1.155 |    0.362086 |     1 |    1   |    1   |    1    |     2 |\n",
      "+----------------------+---------+----------+-------------+-------+--------+--------+---------+-------+\n"
     ]
    }
   ],
   "source": [
    "# run descriptive statistics and transpose the output then use tabulate to display the output\n",
    "from tabulate import tabulate\n",
    "sum_stats=dat_raw.describe().transpose()\n",
    "print(tabulate(sum_stats, headers='keys', tablefmt='psql'))"
   ]
  },
  {
   "cell_type": "code",
   "execution_count": 53,
   "metadata": {},
   "outputs": [
    {
     "data": {
      "image/png": "[encoded data removed]",
      "text/plain": [
       "<Figure size 640x480 with 1 Axes>"
      ]
     },
     "metadata": {},
     "output_type": "display_data"
    }
   ],
   "source": [
    "# check the distribution of the target variable\n",
    "sns.countplot(x='default',data=dat_raw, palette='hls')\n",
    "plt.show()"
   ]
  },
  {
   "cell_type": "code",
   "execution_count": 54,
   "metadata": {},
   "outputs": [
    {
     "name": "stdout",
     "output_type": "stream",
     "text": [
      "+---------------------+---------+----------+----------------------+--------+\n",
      "|                     |   count |   unique | top                  |   freq |\n",
      "|---------------------+---------+----------+----------------------+--------|\n",
      "| checking_balance    |    1000 |        4 | unknown              |    394 |\n",
      "| credit_history      |    1000 |        5 | good                 |    530 |\n",
      "| purpose             |    1000 |        6 | furniture/appliances |    473 |\n",
      "| savings_balance     |    1000 |        5 | < 100 DM             |    603 |\n",
      "| employment_duration |    1000 |        5 | 1 - 4 years          |    339 |\n",
      "| other_credit        |    1000 |        3 | none                 |    814 |\n",
      "| housing             |    1000 |        3 | own                  |    713 |\n",
      "| job                 |    1000 |        4 | skilled              |    630 |\n",
      "| phone               |    1000 |        2 | no                   |    596 |\n",
      "| default             |    1000 |        2 | no                   |    700 |\n",
      "+---------------------+---------+----------+----------------------+--------+\n"
     ]
    }
   ],
   "source": [
    "# run descriptive statistics for the categorical features\n",
    "sum_stat=dat_raw.describe(include=['object']).transpose()\n",
    "print(tabulate(sum_stat, headers='keys', tablefmt='psql'))"
   ]
  },
  {
   "cell_type": "code",
   "execution_count": 55,
   "metadata": {},
   "outputs": [],
   "source": [
    "#  load the raw data and use the LabelEncoder() function to convert the categorical features to numeric\n",
    "from sklearn.preprocessing import LabelEncoder\n",
    "dat=dat_raw.copy()\n",
    "le=LabelEncoder()"
   ]
  },
  {
   "cell_type": "code",
   "execution_count": 56,
   "metadata": {},
   "outputs": [],
   "source": [
    "# find the categorical variables in the data then using the label encoder to convert them to numeric\n",
    "cat_vars=dat.select_dtypes(include=['object']).columns\n",
    "for col in cat_vars:\n",
    "    dat[col]=le.fit_transform(dat[col])\n"
   ]
  },
  {
   "cell_type": "code",
   "execution_count": 65,
   "metadata": {},
   "outputs": [],
   "source": [
    "# Define the gym environment\n",
    "import gym\n",
    "from gym import spaces\n",
    "import pandas as pd\n",
    "import numpy as np\n",
    "\n",
    "class CreditScoringEnv(gym.Env):\n",
    "    def __init__(self, data):\n",
    "        self.data = data\n",
    "        super(CreditScoringEnv, self).__init__()\n",
    "        \n",
    "        # Action Space: Default yes or no (1 or 0) this is not the action but a precursor to the action\n",
    "        self.action_space = spaces.Discrete(2)\n",
    "        \n",
    "        # State Space: You can define as many features as relevant from the data\n",
    "        # Assuming using age, income, credit score\n",
    "        self.observation_space = spaces.Box(low=0, high=np.inf, shape=(3,))\n",
    "        \n",
    "\n",
    "    def reset(self):\n",
    "        self.current_step = 0\n",
    "        return self.data.iloc[self.current_step].values\n",
    "\n",
    "    def step(self, action):\n",
    "        self.current_step += 1\n",
    "\n",
    "    # Terminal state\n",
    "        if self.current_step >= len(self.data):\n",
    "            done = True\n",
    "            self.current_step = 0  # Reset for the next episode\n",
    "            return None, 0, done, {}\n",
    "        \n",
    "        state = self.data.iloc[self.current_step].values\n",
    "        reward = self.get_reward(state, action)\n",
    "    \n",
    "        return state, reward, False, {}\n",
    "        \n",
    "    def get_reward(self, state, action):\n",
    "        # Define your reward function based on the state and action\n",
    "        # For simplicity, assume that approving a good loan gets +1\n",
    "        # and approving a bad loan gets -2 reward.\n",
    "        # You would normally use a more complex function based on the data.\n",
    "        if state[-1] == 1 and action == 1:  # Good loan and approved\n",
    "            return 1\n",
    "        elif state[-1] == 0 and action == 1:  # Bad loan and approved\n",
    "            return -2\n",
    "        else:\n",
    "            return 0  # Otherwise, no reward or loss\n"
   ]
  },
  {
   "cell_type": "code",
   "execution_count": 66,
   "metadata": {},
   "outputs": [],
   "source": [
    "# split the data into states and actions\n",
    "states_x=dat.drop(['default'],axis=1)\n",
    "actions_y=dat['default']\n",
    "# normalize the data\n",
    "from sklearn.preprocessing import StandardScaler\n",
    "scaler=StandardScaler()\n",
    "states_x_scaled=scaler.fit_transform(states_x)\n",
    "# split the data into training and testing sets\n",
    "#from sklearn.model_selection import train_test_split\n",
    "#X_train,X_test,y_train,y_test=train_test_split(actions_y,states_x_scaled,test_size=.3,random_state=123)\n",
    "# Convert the numpy array back to DataFrame\n",
    "states_x_scaled_df = pd.DataFrame(states_x_scaled, columns=states_x.columns)\n",
    "# Concatenate\n",
    "dat_combined = pd.concat([states_x_scaled_df, actions_y], axis=1)"
   ]
  },
  {
   "cell_type": "code",
   "execution_count": 68,
   "metadata": {},
   "outputs": [
    {
     "name": "stdout",
     "output_type": "stream",
     "text": [
      "Type of state: <class 'numpy.ndarray'>, Type of action: <class 'int'>\n",
      "Value of state: [-0.4645937  -1.23647786 -1.01055883  0.90853382 -0.74513141  1.66990103\n",
      "  1.09776229  0.91847717  1.04698668  2.76645648  0.21834568 -0.13371046\n",
      "  1.02707891 -0.2896393  -0.42828957  1.21459768  0.        ], Value of action: 1\n"
     ]
    },
    {
     "ename": "IndexError",
     "evalue": "arrays used as indices must be of integer (or boolean) type",
     "output_type": "error",
     "traceback": [
      "\u001b[0;31m---------------------------------------------------------------------------\u001b[0m",
      "\u001b[0;31mIndexError\u001b[0m                                Traceback (most recent call last)",
      "\u001b[1;32m/Users/quinference/Documents/msc-ai/assessment_project/report.ipynb Cell 16\u001b[0m line \u001b[0;36m3\n\u001b[1;32m     <a href='vscode-notebook-cell:/Users/quinference/Documents/msc-ai/assessment_project/report.ipynb#X25sZmlsZQ%3D%3D?line=27'>28</a>\u001b[0m next_state, reward, done, _ \u001b[39m=\u001b[39m env\u001b[39m.\u001b[39mstep(action)\n\u001b[1;32m     <a href='vscode-notebook-cell:/Users/quinference/Documents/msc-ai/assessment_project/report.ipynb#X25sZmlsZQ%3D%3D?line=29'>30</a>\u001b[0m \u001b[39m# Update Q-value using the Bellman equation\u001b[39;00m\n\u001b[0;32m---> <a href='vscode-notebook-cell:/Users/quinference/Documents/msc-ai/assessment_project/report.ipynb#X25sZmlsZQ%3D%3D?line=30'>31</a>\u001b[0m old_value \u001b[39m=\u001b[39m Q[state, action]\n\u001b[1;32m     <a href='vscode-notebook-cell:/Users/quinference/Documents/msc-ai/assessment_project/report.ipynb#X25sZmlsZQ%3D%3D?line=31'>32</a>\u001b[0m next_max \u001b[39m=\u001b[39m np\u001b[39m.\u001b[39mmax(Q[next_state])\n\u001b[1;32m     <a href='vscode-notebook-cell:/Users/quinference/Documents/msc-ai/assessment_project/report.ipynb#X25sZmlsZQ%3D%3D?line=33'>34</a>\u001b[0m new_value \u001b[39m=\u001b[39m (\u001b[39m1\u001b[39m \u001b[39m-\u001b[39m alpha) \u001b[39m*\u001b[39m old_value \u001b[39m+\u001b[39m alpha \u001b[39m*\u001b[39m (reward \u001b[39m+\u001b[39m gamma \u001b[39m*\u001b[39m next_max)\n",
      "\u001b[0;31mIndexError\u001b[0m: arrays used as indices must be of integer (or boolean) type"
     ]
    }
   ],
   "source": [
    "# Reinforcement Learning\n",
    "import random\n",
    " #Initialize the Gym environment with the new DataFrame\n",
    "env = CreditScoringEnv(data=dat_combined)\n",
    "state = env.reset()\n",
    "\n",
    "# Initialize Q-table with zeros\n",
    "Q = np.zeros([len(env.data), env.action_space.n])\n",
    "\n",
    "# Hyperparameters\n",
    "alpha = 0.1\n",
    "gamma = 0.9\n",
    "epsilon = 1.0\n",
    "\n",
    "# Training the Q-learning model\n",
    "for episode in range(1, 10001):\n",
    "    done = False\n",
    "    while not done:\n",
    "        print(f'Type of state: {type(state)}, Type of action: {type(action)}')\n",
    "        print(f'Value of state: {state}, Value of action: {action}')\n",
    "\n",
    "        # Epsilon-greedy action selection\n",
    "        if random.uniform(0, 1) < epsilon:\n",
    "            action = env.action_space.sample()\n",
    "        else:\n",
    "            action = np.argmax(Q[state])\n",
    "        \n",
    "        next_state, reward, done, _ = env.step(action)\n",
    "        \n",
    "        # Update Q-value using the Bellman equation for Q-learning which is defined as:\n",
    "        # Q(s,a) = (1 - alpha) * Q(s,a) + alpha * (reward + gamma * max Q(s',a')) DOUBLE CHECK THIS\n",
    "        old_value = Q[state, action]\n",
    "        next_max = np.max(Q[next_state])\n",
    "        \n",
    "        new_value = (1 - alpha) * old_value + alpha * (reward + gamma * next_max)\n",
    "        Q[state, action] = new_value\n",
    "        \n",
    "        state = next_state\n",
    "    \n",
    "    # Reduce epsilon to shift from exploration to exploitation (i.e. less random actions as the agent learns)\n",
    "    if epsilon > 0.01:\n",
    "        epsilon *= 0.995\n",
    "\n",
    "# At this point, Q contains the Q-values, and you can derive the policy from it.\n",
    "# For example, you can get the policy for the first state as follows:\n",
    "print(np.argmax(Q[0]))\n"
   ]
  },
  {
   "cell_type": "code",
   "execution_count": 82,
   "metadata": {},
   "outputs": [
    {
     "data": {
      "text/plain": [
       "array([[0.],\n",
       "       [0.],\n",
       "       [0.],\n",
       "       [0.],\n",
       "       [0.],\n",
       "       [0.],\n",
       "       [0.],\n",
       "       [0.],\n",
       "       [0.]])"
      ]
     },
     "execution_count": 82,
     "metadata": {},
     "output_type": "execute_result"
    }
   ],
   "source": [
    "Q[1:10, 1:10]"
   ]
  },
  {
   "cell_type": "markdown",
   "metadata": {},
   "source": [
    "Incorporating fairness criteria into an MDP for credit scoring is crucial to ensure that the decision-making process does not discriminate against certain groups based on sensitive attributes like gender, race, or age. There are different notions of fairness that can be applied, such as demographic parity, equalized odds, or disparate impact.  One way to do this would be to modify the State Space by including sensitive attributes.\n"
   ]
  },
  {
   "cell_type": "code",
   "execution_count": null,
   "metadata": {},
   "outputs": [],
   "source": [
    "## 1. Modify the State Space\n",
    "# State Space: Now also includes a sensitive attribute (e.g., gender)\n",
    "self.observation_space = spaces.Box(low=0, high=np.inf, shape=(4,))"
   ]
  },
  {
   "cell_type": "markdown",
   "metadata": {},
   "source": [
    "### 2. Modify the Reward Function\n",
    "\n",
    "The reward function is where you can apply your fairness constraints. For example, you can add a penalty term if the decision violates your fairness criteria.\n"
   ]
  },
  {
   "cell_type": "code",
   "execution_count": null,
   "metadata": {},
   "outputs": [],
   "source": [
    "def get_reward(self, state, action):\n",
    "    sensitive_attribute = state[-2]  # Assuming the second last feature is the sensitive attribute\n",
    "    loan_status = state[-1]\n",
    "    \n",
    "    reward = 0\n",
    "    \n",
    "    if loan_status == 1 and action == 1:\n",
    "        reward = 1\n",
    "    elif loan_status == 0 and action == 1:\n",
    "        reward = -2\n",
    "\n",
    "    # Apply fairness penalty\n",
    "    fairness_penalty = self.calculate_fairness_penalty(state, action)\n",
    "    reward -= fairness_penalty\n",
    "    \n",
    "    return reward\n",
    "\n",
    "def calculate_fairness_penalty(self, state, action):\n",
    "    # Implement your fairness metric here, for example, demographic parity\n",
    "    # For simplicity, let's assume we subtract a penalty if loan is approved\n",
    "    # for a disadvantaged group member\n",
    "    sensitive_attribute = state[-2]\n",
    "    \n",
    "    if sensitive_attribute == 'disadvantaged' and action == 1:\n",
    "        return 0.5\n",
    "    else:\n",
    "        return 0\n"
   ]
  },
  {
   "cell_type": "markdown",
   "metadata": {},
   "source": [
    "## 3. Update the Q-Learning Algorithm\n",
    "\n",
    "You might also want to update your learning algorithm to consider fairness, for instance by adjusting the Q-value update rule. In the simplest case, the fairness penalty can be included in the reward, as above, and no changes to the algorithm are required.\n",
    "\n",
    "However, more advanced techniques might involve multi-objective reinforcement learning, where you would have one objective for maximizing loan profitability and another for fairness. In this case, you would need to update the Q-value update rule to consider both objectives."
   ]
  },
  {
   "cell_type": "markdown",
   "metadata": {},
   "source": [
    "### 4. Monitor Fairness Over Time\n",
    "\n",
    "As the model is training, keep track of fairness metrics over time. You might also have to regularly audit your system to ensure that it remains fair as more data becomes available.\n"
   ]
  },
  {
   "cell_type": "markdown",
   "metadata": {},
   "source": [
    "Incorporating fairness criteria into an MDP is a complex task that may involve significant design and ethical considerations. Given your background in finance, technology, and data science, you're in a good position to take on this challenge by developing methods that are both effective and equitable."
   ]
  },
  {
   "cell_type": "markdown",
   "metadata": {},
   "source": [
    "## Methodology"
   ]
  },
  {
   "cell_type": "markdown",
   "metadata": {},
   "source": [
    "When using the markov chain model, we need to convert the categorical variables to numeric. We will use the LabelEncoder function from the sklearn package to convert the categorical variables to numeric.  Using risk levels as states, we can build a markov decision process to predict the probability of default."
   ]
  },
  {
   "cell_type": "markdown",
   "metadata": {},
   "source": [
    "## Results"
   ]
  },
  {
   "cell_type": "markdown",
   "metadata": {},
   "source": [
    "## Discussion"
   ]
  },
  {
   "cell_type": "markdown",
   "metadata": {},
   "source": [
    "## Conclusion & Word Count"
   ]
  },
  {
   "cell_type": "markdown",
   "metadata": {},
   "source": [
    "## References"
   ]
  }
 ],
 "metadata": {
  "kernelspec": {
   "display_name": "Python 3",
   "language": "python",
   "name": "python3"
  },
  "language_info": {
   "codemirror_mode": {
    "name": "ipython",
    "version": 3
   },
   "file_extension": ".py",
   "mimetype": "text/x-python",
   "name": "python",
   "nbconvert_exporter": "python",
   "pygments_lexer": "ipython3",
   "version": "3.11.5"
  },
  "orig_nbformat": 4
 },
 "nbformat": 4,
 "nbformat_minor": 2
}
