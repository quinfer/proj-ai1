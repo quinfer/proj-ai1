{
 "cells": [
  {
   "cell_type": "raw",
   "metadata": {},
   "source": [
    "---\n",
    "title: \"Foundations of AI Project\"\n",
    "subtitle: \"Predicting probability of consumer credit default using AI\"\n",
    "author: \"Barry Quinn\"\n",
    "date: \"2020-20-01\"\n",
    "bibliography: refs.bib\n",
    "output:\n",
    "  pdf_document: default\n",
    "  html_document: default\n",
    "code_folding: true\n",
    "---"
   ]
  },
  {
   "cell_type": "markdown",
   "metadata": {},
   "source": [
    "## Introduction"
   ]
  },
  {
   "cell_type": "markdown",
   "metadata": {},
   "source": [
    "Understand the creditworthiness of a customer is a key task for banks. In this project, we will use the data from a German bank to build a credit scoring model to predict the probability of default. The data is from [UCI Machine Learning Repository](https://archive.ics.uci.edu/ml/datasets/statlog+(german+credit+data)).\n",
    "The data contains 1000 entries with 20 features. The features are a mix of numeric and categorical variables. The target variable is a binary variable indicating whether the customer is a good or bad credit risk. The data is split into 700 training and 300 testing samples. The goal is to build a model to predict the probability of default for the testing samples.\n",
    "\n",
    "While extension of credit can be traced back to babylonian times, the history of credit scoring classification can be traced back to a 1941 study distinguish good loans from bad loans [@durand.1941;@crook.2006]. The first credit scoring model was developed in 1958 by Fair Isaac Corporation (FICO). The FICO score is still the most widely used credit score in the world. The FICO score is based on a logistic regression model. In this project, we will build a logistic regression model and compare its performance with other machine learning models."
   ]
  },
  {
   "cell_type": "code",
   "execution_count": 35,
   "metadata": {},
   "outputs": [
    {
     "name": "stdout",
     "output_type": "stream",
     "text": [
      "122\n",
      "     publicationName                                                                  title                                                                                                                                                                                              citedby_count\n",
      " 34  Irish Journal of Medical Science                                                 Current concepts on bibliometrics: a brief review about impact factor, Eigenfactor score, CiteScore, SCImago Journal Rank, Source-Normalised Impact per Paper, H-index, and alternative metrics              186\n",
      " 77  Radiographics                                                                    Understanding bibliometric parameters and analysis                                                                                                                                                           150\n",
      "118  Proceedings of the National Academy of Sciences of the United States of America  The most influential journals: Impact factor and eigenfactor                                                                                                                                                 135\n",
      "115  College and Research Libraries                                                   The eigenfactor metrics™: A network approach to assessing scholarly journals                                                                                                                                 131\n",
      " 60  European Journal of Operational Research                                         Evaluating journal quality: A review of journal citation indicators and ranking in business and management                                                                                                    98\n",
      "111  PLoS ONE                                                                         Integrative approach to quality assessment of medical journals using impact factor, Eigenfactor, and Article influence scores                                                                                 64\n",
      " 96  Nuclear Medicine Review                                                          Comparison between impact factor, SCImago journal rank indicator and eigenfactor score of nuclear medicine journals                                                                                           62\n",
      " 52  Journal of NeuroInterventional Surgery                                           Bibliometric indices: Defining academic productivity and citation rates of researchers, departments and journals                                                                                              53\n",
      "113  Scientometrics                                                                   Correlation between the Journal Impact Factor and three other journal citation indices                                                                                                                        50\n",
      " 75  International Orthopaedics                                                       Impact and alternative metrics for medical publishing: our experience with International Orthopaedics                                                                                                         48\n"
     ]
    }
   ],
   "source": [
    "from pybliometrics.scopus import ScopusSearch\n",
    "from tabulate import tabulate\n",
    "import pandas as pd\n",
    "query = r' TITLE-ABS-KEY(\"Journal Impact\" AND \"Eigenfactor\")'\n",
    "s1=ScopusSearch(query)\n",
    "print(s1.get_results_size()) \n",
    "df1=pd.DataFrame(s1.results)\n",
    "print(\n",
    "    tabulate(df1[['publicationName','title','citedby_count']].sort_values(\n",
    "    by='citedby_count',ascending=False).head(10)\n",
    "         ,headers='keys',tablefmt='plain'))"
   ]
  },
  {
   "cell_type": "markdown",
   "metadata": {},
   "source": [
    "To understand the modelling of credit risk using artificial intelligence (AI) and machine learning we first perform a systematic literature review using using bibliometric techniques on the measure of science[@goden.2006].  Specifically we using the python package `pybliometrics` to query the Scopus database using their API. To further improve the quality of the bibliometric search we using an objective measure of journal quality known as the Eigenfactor metrics.\n",
    "\n",
    "Journal Impact Factors (JIFs) have long been a popular metric for evaluating the quality of academic journals. They are calculated by dividing the number of citations a journal receives in a given year by the total number of citable items published in that journal during the preceding two years. However, JIFs have been the subject of much criticism, primarily due to their potential for manipulation, bias, and incentivising questionable research practices (Seglen, 1997; Brembs et al., 2013).\n",
    "\n",
    "Variations in citation practices, differing lag between publication and citation, differing use of JCR-indexed literature for citation and distinct levels of impact factor inflation across research fields contribute to this challenge [@althouse.2008]. Eigenfactor metrics, which are derived from the Eigenfactor Score (ES) and the Article Influence Score (AIS), have been proposed as an alternative to JIFs (Bergstrom, 2007). These metrics are based on a journal's citation network and take into account both the quality and quantity of citations (Bergstrom et al., 2008)."
   ]
  },
  {
   "cell_type": "code",
   "execution_count": 2,
   "metadata": {},
   "outputs": [
    {
     "name": "stdout",
     "output_type": "stream",
     "text": [
      "621\n"
     ]
    }
   ],
   "source": [
    "query = r' TITLE-ABS-KEY((\"artificial intelligence\" OR \"machine learning\") AND (\"credit scoring\"))'\n",
    "s=ScopusSearch(query)\n",
    "print(s.get_results_size()) \n",
    "df=pd.DataFrame(s.results)\n",
    "df.to_csv('scopus_2023.csv')\n",
    "jcr=pd.read_csv('jcr_2021.csv')"
   ]
  },
  {
   "cell_type": "markdown",
   "metadata": {},
   "source": [
    "The above code using the Scopus API to perform an initital literature review of application of AI and machine learning in credit scoring.  Using a Scopus search `TITLE-ABS-KEY((\"artificial intelligence\" OR \"machine learning\") AND (\"credit risk\" OR \"credit scoring\"))` we find that there have been 621 academic papers published."
   ]
  },
  {
   "cell_type": "code",
   "execution_count": 3,
   "metadata": {},
   "outputs": [
    {
     "data": {
      "text/plain": [
       "(389, 64)"
      ]
     },
     "execution_count": 3,
     "metadata": {},
     "output_type": "execute_result"
    }
   ],
   "source": [
    "# Check for missing values\n",
    "#print(jcr['ISSN'].isnull().sum())\n",
    "#print(jcr['ISSN'].head())\n",
    "#print(df['issn'].isnull().sum())\n",
    "#print(df['issn'].head())\n",
    "# Tidy up both dataframes before merging\n",
    "jcr=jcr[jcr['ISSN'].notnull()]\n",
    "df=df[df['issn'].notnull()]\n",
    "jcr['issn']=jcr['ISSN'].str.replace('-','')\n",
    "jcr=jcr.drop_duplicates(subset='Journal name',keep='first')\n",
    "df_q=pd.merge(df, jcr, on='issn', how='left')\n",
    "df_q.shape"
   ]
  },
  {
   "cell_type": "markdown",
   "metadata": {},
   "source": [
    "### Filtering on high quality journals\n",
    "\n",
    "Bibliometric analysis, a robust methodology within the realm of scientometrics, has gained significant prominence in academic research (Van Raan, 2005; Glänzel & Schubert, 2005). This approach involves quantitative analysis of scholarly publications, aiming to unveil patterns, trends, and relationships within the literature of a specific field or research domain (Chen, 2017; Bornmann, 2019). By systematically examining publication metadata, citation patterns, and co-authorship networks, bibliometric analysis offers valuable insights into the knowledge landscape, intellectual structure, and scholarly impact of a particular discipline (Leydesdorff & Rafols, 2009; Ding et al., 2011).\n",
    "\n",
    "The application of bibliometric analysis spans across diverse fields, including science, technology, social sciences, and humanities (Van Eck & Waltman, 2014; Borrego et al., 2016; Mikolov et al., 2013). Its utility lies in its ability to uncover patterns of knowledge dissemination, identify influential authors and institutions, trace the development of research themes over time, and assess the impact of scholarly works through citation analysis (Liu & Rousseau, 2016; Glänzel et al., 2019). Furthermore, bibliometric analysis assists in identifying research gaps, directing research efforts, and guiding policy-making decisions (Larivière et al., 2013; Abramo et al., 2020).\n",
    "\n",
    "The Journal Impact Factor (JIF) has been widely used as a measure of journal quality and research impact. Despite its popularity, JIF has been criticised for various reasons, such as its susceptibility to manipulation and its potential to encourage questionable research practices. This paper provides an academic critique of Journal Impact Factors and discusses the potential improvements that can be made through the application of Eigenfactor metrics. We argue that Eigenfactor metrics can address some of the limitations of JIF, offering a more robust and nuanced approach to evaluating journal quality and research impact.\n",
    "\n",
    "Journal Impact Factors (JIFs) have long been a popular metric for evaluating the quality of academic journals. They are calculated by dividing the number of citations a journal receives in a given year by the total number of citable items published in that journal during the preceding two years. However, JIFs have been the subject of much criticism, primarily due to their potential for manipulation, bias, and incentivising questionable research practices (Seglen, 1997; Brembs et al., 2013).\n",
    "\n",
    "Critique of Journal Impact Factors:\n",
    "\n",
    "Inherent biases: JIFs are criticised for having inherent biases that favor journals in certain disciplines or with larger citation networks (Leydesdorff, 2008). This can result in an unfair comparison between journals in different fields and may lead to a skewed perception of research quality.\n",
    "\n",
    "Susceptibility to manipulation: The calculation of JIFs can be easily manipulated by practices such as self-citation, coercive citation, and salami slicing (Wilhite and Fong, 2012; Vanclay, 2012). This can result in inflated JIFs that do not accurately reflect the true impact or quality of a journal.\n",
    "\n",
    "Focus on short-term impact: JIFs place more emphasis on short-term impact rather than long-term significance by only considering citations from the preceding two years (Adler et al., 2009). This can result in the undervaluation of important research with a more gradual impact. However, a 5 year impact factor is also now being published to accomodate for differing citation peaks across various fields, although the original 2 year impact factor seems to be the more referred one.\n",
    "\n",
    "Encouraging questionable research practices: The pressure to publish in high-impact journals may lead to researchers engaging in questionable practices such as p-hacking or HARKing (Head et al., 2015; Kerr, 1998).\n",
    "\n",
    "Improvements through Eigenfactor Metrics:\n",
    "\n",
    "The interdisciplinary aspect of Fintech due to the technologies involved has seen research being carried out in various subject areas, with prominent contribution from Finance and Computer Science related academic sources. The challenge, however, remains to identify the top avenues based on quality due to the differing attributes and ranking methodologies. Variations in citation practices, differing lag between publication and citation, differing use of JCR-indexed literature for citation and distinct levels of impact factor inflation across research fields contribute to this challenge [@althouse2008]. Eigenfactor metrics, which are derived from the Eigenfactor Score (ES) and the Article Influence Score (AIS), have been proposed as an alternative to JIFs (Bergstrom, 2007). These metrics are based on a journal's citation network and take into account both the quality and quantity of citations (Bergstrom et al., 2008).\n",
    "\n",
    "Mitigating biases: By considering the entire citation network rather than just citations within a specific timeframe, Eigenfactor metrics can help reduce the biases associated with JIFs (West et al., 2010).\n",
    "\n",
    "Resistant to manipulation: Eigenfactor metrics are less susceptible to manipulation as they take into account the quality of citations and are less influenced by self-citation (Bergstrom et al., 2008).\n",
    "\n",
    "Emphasis on long-term impact: Unlike JIFs, Eigenfactor metrics do not emphasise short-term impact and can provide a more accurate representation of a journal's long-term significance.\n",
    "\n",
    "Discouraging questionable research practices: As Eigenfactor metrics are less susceptible to manipulation, they may help discourage questionable research practices by reducing the emphasis on JIFs.\n",
    "\n",
    "Although Journal Impact Factors have been a popular metric for assessing journal quality, they are susceptible to various criticisms, including biases, susceptibility to manipulation, and their focus on short-term impact. In response to these limitations, Eigenfactor metrics have been proposed as an alternative approach. Eigenfactor metrics consider the entire citation network, mitigate biases, and are resistant to manipulation. They provide a more accurate representation of a journal's long-term impact and discourage questionable research practices associated with JIFs. By adopting Eigenfactor metrics, the evaluation of journal quality and research impact can become more robust and nuanced.\n",
    "\n",
    "Eigenfactor metrics offer a quantitative approach to ranking the vast amount of research produced by numerous journals across various subject areas. It leverages the concept of eigenvector centrality, commonly used in linear algebra and with applications in quantitative finance. In the context of journal rankings, eigenvector centrality determines the importance of a journal based on the extent and strength of its connections with other journals through citations [@west2010]. This approach provides a measure of influence within the citation network of journals.\n",
    "\n",
    "The primary metric used in Eigenfactor analysis is the Eigenfactor score. It considers cross-citation data among thousands of journals to assess the proportion of the total weighted citations received by a specific journal. By constructing a stochastic matrix using cross-citation data, the Eigenfactor score quantifies the influence of a journal based on both the volume and weightage of its citation network [@west_2008]. Notably, this metric addresses biases such as self-citation and incorporates data from the last five years. Eigenfactor scores are normalized to 1 or 100 (as percentages) to indicate the proportion of value or influence generated by a journal, making them additive in nature. The underlying principle is that highly influential journals are likely to be cited by other influential journals.\n",
    "\n",
    "Compared to the traditional Journal Impact Factor approach, Eigenfactor metrics offer several advantages. They go beyond simple citation counts and control for differences across disciplines. For example, in the field of Economics, the Journal Impact Factor may rank Health Economic journals higher than top Economic journals due to the higher number of references per paper in health journals. Eigenfactor Metrics corrects for this by simulating a random walk on the citation network, adjusting the influence of journals with a large number of out-citations. These corrections help normalize differences in citation cultures across disciplines and multidisciplinary journals.\n",
    "\n",
    "It is important to note that Eigenfactor scores can be influenced by the size of a journal. For instance, the Journal of Health Economics, a 3-star ABS journal, may have a higher Eigenfactor (0.013) compared to Quantitative Economics, a 4-star ABS journal with a lower Eigenfactor (0.005). This discrepancy arises because the Eigenfactor measures the total influence of a journal, which can be affected by its size and citation patterns.\n",
    "\n",
    "The Eigenfactor analysis also includes the Article Influence Score, which complements the Eigenfactor Score by accounting for the size of the journal. The Article Influence Score is calculated by dividing the journal's Eigenfactor Score by the number of articles published in that journal. This adjustment is necessary because larger journals with a greater number of articles are more likely to receive higher Eigenfactor scores due to the increased chances of visits. By providing a per-article influence score, the Article Influence Score enables a more meaningful comparison of journal impact, similar to the traditional Impact Factor metric [@west2010].\n",
    "\n",
    "By incorporating both the Eigenfactor Score and the Article Influence Score, Eigenfactor metrics offer a comprehensive approach to evaluating journal quality and research impact. These metrics consider the influence of a journal within the citation network, account for differences in citation cultures across disciplines, and address biases associated with traditional Journal Impact Factors. Researchers and stakeholders can utilize Eigenfactor metrics to gain a more nuanced understanding of journal influence and make informed decisions regarding scholarly publications.\n",
    "\n"
   ]
  },
  {
   "cell_type": "code",
   "execution_count": 4,
   "metadata": {},
   "outputs": [
    {
     "data": {
      "image/png": "[encoded data removed]",
      "text/plain": [
       "<Figure size 640x480 with 1 Axes>"
      ]
     },
     "metadata": {},
     "output_type": "display_data"
    }
   ],
   "source": [
    "# plot the count of the papers published in each year\n",
    "import matplotlib.pyplot as plt\n",
    "df['year']=df['coverDate'].apply(lambda x: x.split('-')[0])\n",
    "df['year']=df['year'].astype(int)\n",
    "df['year'].value_counts().sort_index().plot(kind='bar')\n",
    "# Give the plot a title\n",
    "plt.title(\"The number of papers published in each year\")\n",
    "plt.xlabel(\"Year\")\n",
    "plt.ylabel(\"Count\")\n",
    "plt.show()"
   ]
  },
  {
   "cell_type": "code",
   "execution_count": null,
   "metadata": {},
   "outputs": [],
   "source": [
    "from tabulate import tabulate\n",
    "# Function to wrap text\n",
    "def wrap_text(text, max_width=20):\n",
    "    chunks = [text[i:i+max_width] for i in range(0, len(text), max_width)]\n",
    "    return '\\n'.join(chunks)\n",
    "\n",
    "# Wrap large text entries\n",
    "for row in data:\n",
    "    row[-1] = wrap_text(row[-1])\n",
    "\n",
    "# Generate table\n",
    "print(tabulate(data, headers=['Name', 'Email', 'Description'], tablefmt='pipe'))"
   ]
  },
  {
   "cell_type": "code",
   "execution_count": 5,
   "metadata": {},
   "outputs": [
    {
     "name": "stdout",
     "output_type": "stream",
     "text": [
      "Title                                                                        Citations    Flavour           Date Published    Abstract\n",
      "A few useful things to know about machine learning                           1727         Review            October 2012      MACHINE LEARNING SYSTEMS automatically learn programs from data. This is often a very attractive alternative to manually constructing them, and in the last decade the use of machine learning has spread rapidly throughout computer science and beyond. Machine learning is used in Web search, spam filters, recommender systems, ad placement, credit scoring, fraud detection, stock trading, drug design, and many other applications. A recent report from the McKinsey Global Institute asserts that machine learning (a.k.a. data mining or predictive analytics) will be the driver of the next big wave of innovation. 15 Several fine textbooks are available to interested practitioners and researchers (for example, Mitchell 16 and Witten et al. 24). However, much of the \"folk knowledge\" that is needed to successfully develop machine learning applications is not readily available in them. As a result, many machine learning projects take much longer than necessary or wind up producing less-than-ideal results. Yet much of this folk knowledge is fairly easy to communicate. This is the purpose of this article. © 2012 ACM.\n",
      "A survey on the application of genetic programming to classification         432          Review            March 2010        Classification is one of the most researched questions in machine learning and data mining. A wide range of real problems have been stated as classification problems, for example credit scoring, bankruptcy prediction, medical diagnosis, pattern recognition, text categorization, software quality assessment, and many more. The use of evolutionary algorithms for training classifiers has been studied in the past few decades. Genetic programming (GP) is a flexible and powerful evolutionary technique with some features that can be very valuable and suitable for the evolution of classifiers. This paper surveys existing literature about the application of genetic programming to classification, to show the different ways in which this evolutionary algorithm can help in the construction of accurate and reliable classifiers. © 2009 IEEE.\n",
      "Using neural network ensembles for bankruptcy prediction and credit scoring  374          Article           May 2008          Bankruptcy prediction and credit scoring have long been regarded as critical topics and have been studied extensively in the accounting and finance literature. Artificial intelligence and machine learning techniques have been used to solve these financial decision-making problems. The multilayer perceptron (MLP) network trained by the back-propagation learning algorithm is the mostly used technique for financial decision-making problems. In addition, it is usually superior to other traditional statistical models. Recent studies suggest combining multiple classifiers (or classifier ensembles) should be better than single classifiers. However, the performance of multiple classifiers in bankruptcy prediction and credit scoring is not fully understood. In this paper, we investigate the performance of a single classifier as the baseline classifier to compare with multiple classifiers and diversified multiple classifiers by using neural networks based on three datasets. By comparing with the single classifier as the benchmark in terms of average prediction accuracy, the multiple classifiers only perform better in one of the three datasets. The diversified multiple classifiers trained by not only different classifier parameters but also different sets of training data perform worse in all datasets. However, for the Type I and Type II errors, there is no exact winner. We suggest that it is better to consider these three classifier architectures to make the optimal financial decision. © 2007 Elsevier Ltd. All rights reserved.\n",
      "A comparative assessment of ensemble learning for credit scoring             374          Article           January 2011      Both statistical techniques and Artificial Intelligence (AI) techniques have been explored for credit scoring, an important finance activity. Although there are no consistent conclusions on which ones are better, recent studies suggest combining multiple classifiers, i.e., ensemble learning, may have a better performance. In this study, we conduct a comparative assessment of the performance of three popular ensemble methods, i.e., Bagging, Boosting, and Stacking, based on four base learners, i.e., Logistic Regression Analysis (LRA), Decision Tree (DT), Artificial Neural Network (ANN) and Support Vector Machine (SVM). Experimental results reveal that the three ensemble methods can substantially improve individual base learners. In particular, Bagging performs better than Boosting across all credit datasets. Stacking and Bagging DT in our experiments, get the best performance in terms of average accuracy, type I error and type II error. © 2010 Elsevier Ltd. All rights reserved.\n",
      "Fairness-aware classifier with prejudice remover regularizer                 373          Conference Paper  2012              With the spread of data mining technologies and the accumulation of social data, such technologies and data are being used for determinations that seriously affect individuals' lives. For example, credit scoring is frequently determined based on the records of past credit data together with statistical prediction techniques. Needless to say, such determinations must be nondiscriminatory and fair in sensitive features, such as race, gender, religion, and so on. Several researchers have recently begun to attempt the development of analysis techniques that are aware of social fairness or discrimination. They have shown that simply avoiding the use of sensitive features is insufficient for eliminating biases in determinations, due to the indirect influence of sensitive information. In this paper, we first discuss three causes of unfairness in machine learning. We then propose a regularization approach that is applicable to any prediction algorithm with probabilistic discriminative models. We further apply this approach to logistic regression and empirically show its effectiveness and efficiency. © 2012 Springer-Verlag.\n"
     ]
    }
   ],
   "source": [
    "# Filter the scopus search on the top 5 cited articles\n",
    "from tabulate import tabulate\n",
    "df=df.sort_values(by='citedby_count',ascending=False)\n",
    "print(tabulate(df[['title','citedby_count','subtypeDescription','coverDisplayDate','description']].head(),\n",
    "               headers=['Title','Citations',\"Flavour\",'Date Published','Abstract'], \n",
    "               numalign='left', tablefmt='plain',showindex=False))"
   ]
  },
  {
   "cell_type": "code",
   "execution_count": 6,
   "metadata": {},
   "outputs": [
    {
     "data": {
      "image/png": "[encoded data removed]",
      "text/plain": [
       "<Figure size 640x480 with 1 Axes>"
      ]
     },
     "metadata": {},
     "output_type": "display_data"
    }
   ],
   "source": [
    "# plot the count of the papers published in each year in df_q using the AIS Quartile columns to colour the bars\n",
    "import matplotlib.pyplot as plt\n",
    "df_q['year']=df_q['coverDate'].apply(lambda x: x.split('-')[0])\n",
    "df_q['year']=df_q['year'].astype(int)\n",
    "# Drop the rows where the AIS Quartile is missing\n",
    "df_q_plot=df_q[df_q['AIS Quartile'].notnull()]\n",
    "# create a stacked plot of the number of papers published in each year with AIS Quartile quality metric\n",
    "df_q_plot.groupby(['year','AIS Quartile']).size().unstack().plot(kind='bar',stacked=True)\n",
    "# Give the plot a title\n",
    "plt.title(\"The number of papers published in each year with AIS Quartile quality metric\")\n",
    "plt.xlabel(\"Year\")\n",
    "plt.ylabel(\"Count\")\n",
    "plt.show()"
   ]
  },
  {
   "cell_type": "code",
   "execution_count": 19,
   "metadata": {},
   "outputs": [
    {
     "data": {
      "text/html": [
       "<div>\n",
       "<style scoped>\n",
       "    .dataframe tbody tr th:only-of-type {\n",
       "        vertical-align: middle;\n",
       "    }\n",
       "\n",
       "    .dataframe tbody tr th {\n",
       "        vertical-align: top;\n",
       "    }\n",
       "\n",
       "    .dataframe thead th {\n",
       "        text-align: right;\n",
       "    }\n",
       "</style>\n",
       "<table border=\"1\" class=\"dataframe\">\n",
       "  <thead>\n",
       "    <tr style=\"text-align: right;\">\n",
       "      <th></th>\n",
       "      <th>ISSN</th>\n",
       "      <th>Field</th>\n",
       "      <th>Journal Title</th>\n",
       "      <th>Publisher Name</th>\n",
       "      <th>Scopus</th>\n",
       "      <th>Web of Science™</th>\n",
       "      <th>AJG 2021</th>\n",
       "      <th>AJG 2018</th>\n",
       "      <th>AJG 2015</th>\n",
       "      <th>ABS 2010</th>\n",
       "      <th>...</th>\n",
       "      <th>JIF Percentile</th>\n",
       "      <th>JIF Quartile</th>\n",
       "      <th>AIS Quartile</th>\n",
       "      <th>Citable Items</th>\n",
       "      <th>% of Articles in Citable items</th>\n",
       "      <th>Cited Half-Life</th>\n",
       "      <th>Citing Half-Life</th>\n",
       "      <th>Total Articles</th>\n",
       "      <th>eISSN</th>\n",
       "      <th>ISSN.x</th>\n",
       "    </tr>\n",
       "  </thead>\n",
       "  <tbody>\n",
       "    <tr>\n",
       "      <th>2</th>\n",
       "      <td>1879-1980</td>\n",
       "      <td>ACCOUNT</td>\n",
       "      <td>Journal of Accounting and Economics</td>\n",
       "      <td>Elsevier</td>\n",
       "      <td>scopus</td>\n",
       "      <td>WoS</td>\n",
       "      <td>4*</td>\n",
       "      <td>4*</td>\n",
       "      <td>4*</td>\n",
       "      <td>4.0</td>\n",
       "      <td>...</td>\n",
       "      <td>94.14</td>\n",
       "      <td>Q1</td>\n",
       "      <td>Q1</td>\n",
       "      <td>50.0</td>\n",
       "      <td>100%</td>\n",
       "      <td>14.9</td>\n",
       "      <td>11.0</td>\n",
       "      <td>50.0</td>\n",
       "      <td>NaN</td>\n",
       "      <td>NaN</td>\n",
       "    </tr>\n",
       "  </tbody>\n",
       "</table>\n",
       "<p>1 rows × 43 columns</p>\n",
       "</div>"
      ],
      "text/plain": [
       "        ISSN    Field                        Journal Title Publisher Name  \\\n",
       "2  1879-1980  ACCOUNT  Journal of Accounting and Economics       Elsevier   \n",
       "\n",
       "   Scopus Web of Science™ AJG 2021 AJG 2018 AJG 2015  ABS 2010  ...  \\\n",
       "2  scopus             WoS       4*       4*       4*       4.0  ...   \n",
       "\n",
       "   JIF Percentile  JIF Quartile  AIS Quartile  Citable Items  \\\n",
       "2           94.14            Q1            Q1           50.0   \n",
       "\n",
       "  % of Articles in Citable items Cited Half-Life Citing Half-Life  \\\n",
       "2                           100%            14.9             11.0   \n",
       "\n",
       "  Total Articles  eISSN  ISSN.x  \n",
       "2           50.0    NaN     NaN  \n",
       "\n",
       "[1 rows x 43 columns]"
      ]
     },
     "execution_count": 19,
     "metadata": {},
     "output_type": "execute_result"
    }
   ],
   "source": [
    "abs=pd.read_csv('JCR_ABS.csv')\n",
    "abs=abs[abs['ISSN'].notnull()]\n",
    "abs[abs['Journal name'].str.title()==\"Journal Of Accounting & Economics\"]"
   ]
  },
  {
   "cell_type": "code",
   "execution_count": 22,
   "metadata": {},
   "outputs": [
    {
     "name": "stdout",
     "output_type": "stream",
     "text": [
      "                                                                                                                     Title    Ranking    Article Influence Score                                   Journal  Date Published    Abstract\n",
      "Machine + man: A field experiment on the role of discretion in augmenting AI-based lending models                           Q1         5.728                      Journal of Accounting and Economics       1 November 2020   We assess the role of human discretion in lending outcomes using a randomized, controlled experiment. The lenders in our sample utilize a third party, machine-generated credit model as an input in their decision. We design a new feature for the credit-scoring platform – the slider feature – which invites lenders to incorporate additional discretion in their decision by adjusting the machine-based recommendation. We compare the loan outcomes for treatment lenders that randomly get the slider, relative to a control group. The treatment group's adjustments are predictive of forward looking portfolio characteristics – they show larger declines in future portfolio-level credit risk and larger increases in future sales orders, relative to the control group. The effects of our intervention are more pronounced when borrowers do not have social media accounts and in competitive markets. Our study provides insights about the role of human decisions, given the rapid evolution of machine-based lending models.\n",
      "A few useful things to know about machine learning                                                                          Q1         4.416                      Communications of the ACM                 October 2012      MACHINE LEARNING SYSTEMS automatically learn programs from data. This is often a very attractive alternative to manually constructing them, and in the last decade the use of machine learning has spread rapidly throughout computer science and beyond. Machine learning is used in Web search, spam filters, recommender systems, ad placement, credit scoring, fraud detection, stock trading, drug design, and many other applications. A recent report from the McKinsey Global Institute asserts that machine learning (a.k.a. data mining or predictive analytics) will be the driver of the next big wave of innovation. 15 Several fine textbooks are available to interested practitioners and researchers (for example, Mitchell 16 and Witten et al. 24). However, much of the \"folk knowledge\" that is needed to successfully develop machine learning applications is not readily available in them. As a result, many machine learning projects take much longer than necessary or wind up producing less-than-ideal results. Yet much of this folk knowledge is fairly easy to communicate. This is the purpose of this article. © 2012 ACM.\n",
      "Development of a Novel Transformation of Spiking Neural Classifier to an Interpretable Classifier                           Q1         3.433                      IEEE Transactions on Cybernetics          2022              This article presents a new approach for providing an interpretation for a spiking neural network classifier by transforming it to a multiclass additive model. The spiking classifier is a multiclass synaptic efficacy function-based leaky-integrate-fire neuron (Mc-SEFRON) classifier. As a first step, the SEFRON classifier for binary classification is extended to handle multiclass classification problems. Next, a new method is presented to transform the temporally distributed weights in a fully trained Mc-SEFRON classifier to shape functions in the feature space. A composite of these shape functions results in an interpretable classifier, namely, a directly interpretable multiclass additive model (DIMA). The interpretations of DIMA are also demonstrated using the multiclass Iris dataset. Further, the performances of both the Mc-SEFRON and DIMA classifiers are evaluated on ten benchmark datasets from the UCI machine learning repository and compared with the other state-of-the-art spiking neural classifiers. The performance study results show that Mc-SEFRON produces similar or better performances than other spiking neural classifiers with an added benefit of interpretability through DIMA. Furthermore, the minor differences in accuracies between Mc-SEFRON and DIMA indicate the reliability of the DIMA classifier. Finally, the Mc-SEFRON and DIMA are tested on three real-world credit scoring problems, and their performances are compared with state-of-the-art results using machine learning methods. The results clearly indicate that DIMA improves the classification accuracy by up to 12% over other interpretable classifiers indicating a better quality of interpretations on the highly imbalanced credit scoring datasets.\n",
      "Bridging the Gap between AI and Explainability in the GDPR: Towards Trustworthiness-by-Design in Automated Decision-Making  Q1         3.265                      IEEE Computational Intelligence Magazine  1 February 2022   Can satisfactory explanations for complex machine learning models be achieved in high-risk automated decision-making? How can such explanations be integrated into a data protection framework safeguarding a right to explanation? This article explores from an interdisciplinary point of view the connection between existing legal requirements for the explainability of AI systems set out in the General Data Protection Regulation (GDPR) and the current state of the art in the field of explainable AI. It studies the challenges of providing human legible explanations for current and future AI-based decision-making systems in practice, based on two scenarios of automated decision-making in credit scoring risks and medical diagnosis of COVID-19. These scenarios exemplify the trend towards increasingly complex machine learning algorithms in automated decision-making, both in terms of data and models. Current machine learning techniques, in particular those based on deep learning, are unable to make clear causal links between input data and final decisions. This represents a limitation for providing exact, human-legible reasons behind specific decisions, and presents a serious challenge to the provision of satisfactory, fair and transparent explanations. Therefore, the conclusion is that the quality of explanations might not be considered as an adequate safeguard for automated decision-making processes under the GDPR. Accordingly, additional tools should be considered to complement explanations. These could include algorithmic impact assessments, other forms of algorithmic justifications based on broader AI principles, and new technical developments in trustworthy AI. This suggests that eventually all of these approaches would need to be considered as a whole.\n",
      "Combining cluster analysis with classifier ensembles to predict financial distress                                          Q1         3.176                      Information Fusion                        2014              The ability to accurately predict business failure is a very important issue in financial decision-making. Incorrect decision-making in financial institutions is very likely to cause financial crises and distress. Bankruptcy prediction and credit scoring are two important problems facing financial decision support. As many related studies develop financial distress models by some machine learning techniques, more advanced machine learning techniques, such as classifier ensembles and hybrid classifiers, have not been fully assessed. The aim of this paper is to develop a novel hybrid financial distress model based on combining the clustering technique and classifier ensembles. In addition, single baseline classifiers, hybrid classifiers, and classifier ensembles are developed for comparisons. In particular, two clustering techniques, Self-Organizing Maps (SOMs) and k-means and three classification techniques, logistic regression, multilayer-perceptron (MLP) neural network, and decision trees, are used to develop these four different types of bankruptcy prediction models. As a result, 21 different models are compared in terms of average prediction accuracy and Type I & II errors. By using five related datasets, combining Self-Organizing Maps (SOMs) with MLP classifier ensembles performs the best, which provides higher predication accuracy and lower Type I & II errors. © 2011 Elsevier B.V. All rights reserved.\n"
     ]
    }
   ],
   "source": [
    "# Filter the scopus search on the top 5 cited articles\n",
    "from tabulate import tabulate\n",
    "df_q_plot=df_q_plot.sort_values(by='Article Influence Score',ascending=False)\n",
    "tab_fmt=tabulate(df_q_plot[['title','AIS Quartile','Article Influence Score','publicationName','coverDisplayDate','description']].head(),\n",
    "               headers=['Title','Ranking','Article Influence Score',\"Journal\",'Date Published','Abstract','Ranking'], \n",
    "               numalign='left', tablefmt='plain',showindex=False,stralign='left',colalign='left')\n",
    "print(tab_fmt)"
   ]
  },
  {
   "cell_type": "code",
   "execution_count": 48,
   "metadata": {},
   "outputs": [],
   "source": [
    "# load packages\n",
    "import pandas as pd\n",
    "import numpy as np\n",
    "import matplotlib.pyplot as plt\n",
    "import seaborn as sns\n",
    "import os\n",
    "import sys\n",
    "import warnings\n",
    "warnings.filterwarnings('ignore')"
   ]
  },
  {
   "cell_type": "markdown",
   "metadata": {},
   "source": [
    "### Exploratory Data Analysis\n",
    "\n",
    "1. Eyeball the raw data\n",
    "2. Check the data types\n",
    "3. Check the missing values\n",
    "4. Check the outliers\n",
    "5. Check the correlations\n",
    "6. descriptive statistics for numerical variables\n",
    "7. descriptive statistics for categorical variables\n"
   ]
  },
  {
   "cell_type": "code",
   "execution_count": 49,
   "metadata": {},
   "outputs": [
    {
     "data": {
      "text/html": [
       "<div>\n",
       "<style scoped>\n",
       "    .dataframe tbody tr th:only-of-type {\n",
       "        vertical-align: middle;\n",
       "    }\n",
       "\n",
       "    .dataframe tbody tr th {\n",
       "        vertical-align: top;\n",
       "    }\n",
       "\n",
       "    .dataframe thead th {\n",
       "        text-align: right;\n",
       "    }\n",
       "</style>\n",
       "<table border=\"1\" class=\"dataframe\">\n",
       "  <thead>\n",
       "    <tr style=\"text-align: right;\">\n",
       "      <th></th>\n",
       "      <th>checking_balance</th>\n",
       "      <th>months_loan_duration</th>\n",
       "      <th>credit_history</th>\n",
       "      <th>purpose</th>\n",
       "      <th>amount</th>\n",
       "      <th>savings_balance</th>\n",
       "      <th>employment_duration</th>\n",
       "      <th>percent_of_income</th>\n",
       "      <th>years_at_residence</th>\n",
       "      <th>age</th>\n",
       "      <th>other_credit</th>\n",
       "      <th>housing</th>\n",
       "      <th>existing_loans_count</th>\n",
       "      <th>job</th>\n",
       "      <th>dependents</th>\n",
       "      <th>phone</th>\n",
       "      <th>default</th>\n",
       "    </tr>\n",
       "  </thead>\n",
       "  <tbody>\n",
       "    <tr>\n",
       "      <th>0</th>\n",
       "      <td>&lt; 0 DM</td>\n",
       "      <td>6</td>\n",
       "      <td>critical</td>\n",
       "      <td>furniture/appliances</td>\n",
       "      <td>1169</td>\n",
       "      <td>unknown</td>\n",
       "      <td>&gt; 7 years</td>\n",
       "      <td>4</td>\n",
       "      <td>4</td>\n",
       "      <td>67</td>\n",
       "      <td>none</td>\n",
       "      <td>own</td>\n",
       "      <td>2</td>\n",
       "      <td>skilled</td>\n",
       "      <td>1</td>\n",
       "      <td>yes</td>\n",
       "      <td>no</td>\n",
       "    </tr>\n",
       "    <tr>\n",
       "      <th>1</th>\n",
       "      <td>1 - 200 DM</td>\n",
       "      <td>48</td>\n",
       "      <td>good</td>\n",
       "      <td>furniture/appliances</td>\n",
       "      <td>5951</td>\n",
       "      <td>&lt; 100 DM</td>\n",
       "      <td>1 - 4 years</td>\n",
       "      <td>2</td>\n",
       "      <td>2</td>\n",
       "      <td>22</td>\n",
       "      <td>none</td>\n",
       "      <td>own</td>\n",
       "      <td>1</td>\n",
       "      <td>skilled</td>\n",
       "      <td>1</td>\n",
       "      <td>no</td>\n",
       "      <td>yes</td>\n",
       "    </tr>\n",
       "    <tr>\n",
       "      <th>2</th>\n",
       "      <td>unknown</td>\n",
       "      <td>12</td>\n",
       "      <td>critical</td>\n",
       "      <td>education</td>\n",
       "      <td>2096</td>\n",
       "      <td>&lt; 100 DM</td>\n",
       "      <td>4 - 7 years</td>\n",
       "      <td>2</td>\n",
       "      <td>3</td>\n",
       "      <td>49</td>\n",
       "      <td>none</td>\n",
       "      <td>own</td>\n",
       "      <td>1</td>\n",
       "      <td>unskilled</td>\n",
       "      <td>2</td>\n",
       "      <td>no</td>\n",
       "      <td>no</td>\n",
       "    </tr>\n",
       "    <tr>\n",
       "      <th>3</th>\n",
       "      <td>&lt; 0 DM</td>\n",
       "      <td>42</td>\n",
       "      <td>good</td>\n",
       "      <td>furniture/appliances</td>\n",
       "      <td>7882</td>\n",
       "      <td>&lt; 100 DM</td>\n",
       "      <td>4 - 7 years</td>\n",
       "      <td>2</td>\n",
       "      <td>4</td>\n",
       "      <td>45</td>\n",
       "      <td>none</td>\n",
       "      <td>other</td>\n",
       "      <td>1</td>\n",
       "      <td>skilled</td>\n",
       "      <td>2</td>\n",
       "      <td>no</td>\n",
       "      <td>no</td>\n",
       "    </tr>\n",
       "    <tr>\n",
       "      <th>4</th>\n",
       "      <td>&lt; 0 DM</td>\n",
       "      <td>24</td>\n",
       "      <td>poor</td>\n",
       "      <td>car</td>\n",
       "      <td>4870</td>\n",
       "      <td>&lt; 100 DM</td>\n",
       "      <td>1 - 4 years</td>\n",
       "      <td>3</td>\n",
       "      <td>4</td>\n",
       "      <td>53</td>\n",
       "      <td>none</td>\n",
       "      <td>other</td>\n",
       "      <td>2</td>\n",
       "      <td>skilled</td>\n",
       "      <td>2</td>\n",
       "      <td>no</td>\n",
       "      <td>yes</td>\n",
       "    </tr>\n",
       "  </tbody>\n",
       "</table>\n",
       "</div>"
      ],
      "text/plain": [
       "  checking_balance  months_loan_duration credit_history               purpose  \\\n",
       "0           < 0 DM                     6       critical  furniture/appliances   \n",
       "1       1 - 200 DM                    48           good  furniture/appliances   \n",
       "2          unknown                    12       critical             education   \n",
       "3           < 0 DM                    42           good  furniture/appliances   \n",
       "4           < 0 DM                    24           poor                   car   \n",
       "\n",
       "   amount savings_balance employment_duration  percent_of_income  \\\n",
       "0    1169         unknown           > 7 years                  4   \n",
       "1    5951        < 100 DM         1 - 4 years                  2   \n",
       "2    2096        < 100 DM         4 - 7 years                  2   \n",
       "3    7882        < 100 DM         4 - 7 years                  2   \n",
       "4    4870        < 100 DM         1 - 4 years                  3   \n",
       "\n",
       "   years_at_residence  age other_credit housing  existing_loans_count  \\\n",
       "0                   4   67         none     own                     2   \n",
       "1                   2   22         none     own                     1   \n",
       "2                   3   49         none     own                     1   \n",
       "3                   4   45         none   other                     1   \n",
       "4                   4   53         none   other                     2   \n",
       "\n",
       "         job  dependents phone default  \n",
       "0    skilled           1   yes      no  \n",
       "1    skilled           1    no     yes  \n",
       "2  unskilled           2    no      no  \n",
       "3    skilled           2    no      no  \n",
       "4    skilled           2    no     yes  "
      ]
     },
     "execution_count": 49,
     "metadata": {},
     "output_type": "execute_result"
    }
   ],
   "source": [
    "# load the data\n",
    "dat_raw =pd.read_csv('credit.csv')\n",
    "dat_raw.head()"
   ]
  },
  {
   "cell_type": "code",
   "execution_count": 50,
   "metadata": {},
   "outputs": [
    {
     "data": {
      "text/plain": [
       "checking_balance        0\n",
       "months_loan_duration    0\n",
       "credit_history          0\n",
       "purpose                 0\n",
       "amount                  0\n",
       "savings_balance         0\n",
       "employment_duration     0\n",
       "percent_of_income       0\n",
       "years_at_residence      0\n",
       "age                     0\n",
       "other_credit            0\n",
       "housing                 0\n",
       "existing_loans_count    0\n",
       "job                     0\n",
       "dependents              0\n",
       "phone                   0\n",
       "default                 0\n",
       "dtype: int64"
      ]
     },
     "execution_count": 50,
     "metadata": {},
     "output_type": "execute_result"
    }
   ],
   "source": [
    "# check the data for missing values\n",
    "dat_raw.isnull().sum()"
   ]
  },
  {
   "cell_type": "code",
   "execution_count": 51,
   "metadata": {},
   "outputs": [
    {
     "data": {
      "text/plain": [
       "checking_balance        object\n",
       "months_loan_duration     int64\n",
       "credit_history          object\n",
       "purpose                 object\n",
       "amount                   int64\n",
       "savings_balance         object\n",
       "employment_duration     object\n",
       "percent_of_income        int64\n",
       "years_at_residence       int64\n",
       "age                      int64\n",
       "other_credit            object\n",
       "housing                 object\n",
       "existing_loans_count     int64\n",
       "job                     object\n",
       "dependents               int64\n",
       "phone                   object\n",
       "default                 object\n",
       "dtype: object"
      ]
     },
     "execution_count": 51,
     "metadata": {},
     "output_type": "execute_result"
    }
   ],
   "source": [
    "# check data for categorical variables\n",
    "dat_raw.dtypes"
   ]
  },
  {
   "cell_type": "code",
   "execution_count": 52,
   "metadata": {},
   "outputs": [
    {
     "name": "stdout",
     "output_type": "stream",
     "text": [
      "+----------------------+---------+----------+-------------+-------+--------+--------+---------+-------+\n",
      "|                      |   count |     mean |         std |   min |    25% |    50% |     75% |   max |\n",
      "|----------------------+---------+----------+-------------+-------+--------+--------+---------+-------|\n",
      "| months_loan_duration |    1000 |   20.903 |   12.0588   |     4 |   12   |   18   |   24    |    72 |\n",
      "| amount               |    1000 | 3271.26  | 2822.74     |   250 | 1365.5 | 2319.5 | 3972.25 | 18424 |\n",
      "| percent_of_income    |    1000 |    2.973 |    1.11871  |     1 |    2   |    3   |    4    |     4 |\n",
      "| years_at_residence   |    1000 |    2.845 |    1.10372  |     1 |    2   |    3   |    4    |     4 |\n",
      "| age                  |    1000 |   35.546 |   11.3755   |    19 |   27   |   33   |   42    |    75 |\n",
      "| existing_loans_count |    1000 |    1.407 |    0.577654 |     1 |    1   |    1   |    2    |     4 |\n",
      "| dependents           |    1000 |    1.155 |    0.362086 |     1 |    1   |    1   |    1    |     2 |\n",
      "+----------------------+---------+----------+-------------+-------+--------+--------+---------+-------+\n"
     ]
    }
   ],
   "source": [
    "# run descriptive statistics and transpose the output then use tabulate to display the output\n",
    "from tabulate import tabulate\n",
    "sum_stats=dat_raw.describe().transpose()\n",
    "print(tabulate(sum_stats, headers='keys', tablefmt='psql'))"
   ]
  },
  {
   "cell_type": "code",
   "execution_count": 53,
   "metadata": {},
   "outputs": [
    {
     "data": {
      "image/png": "[encoded data removed]",
      "text/plain": [
       "<Figure size 640x480 with 1 Axes>"
      ]
     },
     "metadata": {},
     "output_type": "display_data"
    }
   ],
   "source": [
    "# check the distribution of the target variable\n",
    "sns.countplot(x='default',data=dat_raw, palette='hls')\n",
    "plt.show()"
   ]
  },
  {
   "cell_type": "code",
   "execution_count": 54,
   "metadata": {},
   "outputs": [
    {
     "name": "stdout",
     "output_type": "stream",
     "text": [
      "+---------------------+---------+----------+----------------------+--------+\n",
      "|                     |   count |   unique | top                  |   freq |\n",
      "|---------------------+---------+----------+----------------------+--------|\n",
      "| checking_balance    |    1000 |        4 | unknown              |    394 |\n",
      "| credit_history      |    1000 |        5 | good                 |    530 |\n",
      "| purpose             |    1000 |        6 | furniture/appliances |    473 |\n",
      "| savings_balance     |    1000 |        5 | < 100 DM             |    603 |\n",
      "| employment_duration |    1000 |        5 | 1 - 4 years          |    339 |\n",
      "| other_credit        |    1000 |        3 | none                 |    814 |\n",
      "| housing             |    1000 |        3 | own                  |    713 |\n",
      "| job                 |    1000 |        4 | skilled              |    630 |\n",
      "| phone               |    1000 |        2 | no                   |    596 |\n",
      "| default             |    1000 |        2 | no                   |    700 |\n",
      "+---------------------+---------+----------+----------------------+--------+\n"
     ]
    }
   ],
   "source": [
    "# run descriptive statistics for the categorical features\n",
    "sum_stat=dat_raw.describe(include=['object']).transpose()\n",
    "print(tabulate(sum_stat, headers='keys', tablefmt='psql'))"
   ]
  },
  {
   "cell_type": "code",
   "execution_count": 55,
   "metadata": {},
   "outputs": [],
   "source": [
    "#  load the raw data and use the LabelEncoder() function to convert the categorical features to numeric\n",
    "from sklearn.preprocessing import LabelEncoder\n",
    "dat=dat_raw.copy()\n",
    "le=LabelEncoder()"
   ]
  },
  {
   "cell_type": "code",
   "execution_count": 56,
   "metadata": {},
   "outputs": [],
   "source": [
    "# find the categorical variables in the data then using the label encoder to convert them to numeric\n",
    "cat_vars=dat.select_dtypes(include=['object']).columns\n",
    "for col in cat_vars:\n",
    "    dat[col]=le.fit_transform(dat[col])\n"
   ]
  },
  {
   "cell_type": "code",
   "execution_count": 65,
   "metadata": {},
   "outputs": [],
   "source": [
    "# Define the gym environment\n",
    "import gym\n",
    "from gym import spaces\n",
    "import pandas as pd\n",
    "import numpy as np\n",
    "\n",
    "class CreditScoringEnv(gym.Env):\n",
    "    def __init__(self, data):\n",
    "        self.data = data\n",
    "        super(CreditScoringEnv, self).__init__()\n",
    "        \n",
    "        # Action Space: Default yes or no (1 or 0) this is not the action but a precursor to the action\n",
    "        self.action_space = spaces.Discrete(2)\n",
    "        \n",
    "        # State Space: You can define as many features as relevant from the data\n",
    "        # Assuming using age, income, credit score\n",
    "        self.observation_space = spaces.Box(low=0, high=np.inf, shape=(3,))\n",
    "        \n",
    "\n",
    "    def reset(self):\n",
    "        self.current_step = 0\n",
    "        return self.data.iloc[self.current_step].values\n",
    "\n",
    "    def step(self, action):\n",
    "        self.current_step += 1\n",
    "\n",
    "    # Terminal state\n",
    "        if self.current_step >= len(self.data):\n",
    "            done = True\n",
    "            self.current_step = 0  # Reset for the next episode\n",
    "            return None, 0, done, {}\n",
    "        \n",
    "        state = self.data.iloc[self.current_step].values\n",
    "        reward = self.get_reward(state, action)\n",
    "    \n",
    "        return state, reward, False, {}\n",
    "        \n",
    "    def get_reward(self, state, action):\n",
    "        # Define your reward function based on the state and action\n",
    "        # For simplicity, assume that approving a good loan gets +1\n",
    "        # and approving a bad loan gets -2 reward.\n",
    "        # You would normally use a more complex function based on the data.\n",
    "        if state[-1] == 1 and action == 1:  # Good loan and approved\n",
    "            return 1\n",
    "        elif state[-1] == 0 and action == 1:  # Bad loan and approved\n",
    "            return -2\n",
    "        else:\n",
    "            return 0  # Otherwise, no reward or loss\n"
   ]
  },
  {
   "cell_type": "code",
   "execution_count": 66,
   "metadata": {},
   "outputs": [],
   "source": [
    "# split the data into states and actions\n",
    "states_x=dat.drop(['default'],axis=1)\n",
    "actions_y=dat['default']\n",
    "# normalize the data\n",
    "from sklearn.preprocessing import StandardScaler\n",
    "scaler=StandardScaler()\n",
    "states_x_scaled=scaler.fit_transform(states_x)\n",
    "# split the data into training and testing sets\n",
    "#from sklearn.model_selection import train_test_split\n",
    "#X_train,X_test,y_train,y_test=train_test_split(actions_y,states_x_scaled,test_size=.3,random_state=123)\n",
    "# Convert the numpy array back to DataFrame\n",
    "states_x_scaled_df = pd.DataFrame(states_x_scaled, columns=states_x.columns)\n",
    "# Concatenate\n",
    "dat_combined = pd.concat([states_x_scaled_df, actions_y], axis=1)"
   ]
  },
  {
   "cell_type": "code",
   "execution_count": 68,
   "metadata": {},
   "outputs": [
    {
     "name": "stdout",
     "output_type": "stream",
     "text": [
      "Type of state: <class 'numpy.ndarray'>, Type of action: <class 'int'>\n",
      "Value of state: [-0.4645937  -1.23647786 -1.01055883  0.90853382 -0.74513141  1.66990103\n",
      "  1.09776229  0.91847717  1.04698668  2.76645648  0.21834568 -0.13371046\n",
      "  1.02707891 -0.2896393  -0.42828957  1.21459768  0.        ], Value of action: 1\n"
     ]
    },
    {
     "ename": "IndexError",
     "evalue": "arrays used as indices must be of integer (or boolean) type",
     "output_type": "error",
     "traceback": [
      "\u001b[0;31m---------------------------------------------------------------------------\u001b[0m",
      "\u001b[0;31mIndexError\u001b[0m                                Traceback (most recent call last)",
      "\u001b[1;32m/Users/quinference/Documents/msc-ai/assessment_project/report.ipynb Cell 16\u001b[0m line \u001b[0;36m3\n\u001b[1;32m     <a href='vscode-notebook-cell:/Users/quinference/Documents/msc-ai/assessment_project/report.ipynb#X25sZmlsZQ%3D%3D?line=27'>28</a>\u001b[0m next_state, reward, done, _ \u001b[39m=\u001b[39m env\u001b[39m.\u001b[39mstep(action)\n\u001b[1;32m     <a href='vscode-notebook-cell:/Users/quinference/Documents/msc-ai/assessment_project/report.ipynb#X25sZmlsZQ%3D%3D?line=29'>30</a>\u001b[0m \u001b[39m# Update Q-value using the Bellman equation\u001b[39;00m\n\u001b[0;32m---> <a href='vscode-notebook-cell:/Users/quinference/Documents/msc-ai/assessment_project/report.ipynb#X25sZmlsZQ%3D%3D?line=30'>31</a>\u001b[0m old_value \u001b[39m=\u001b[39m Q[state, action]\n\u001b[1;32m     <a href='vscode-notebook-cell:/Users/quinference/Documents/msc-ai/assessment_project/report.ipynb#X25sZmlsZQ%3D%3D?line=31'>32</a>\u001b[0m next_max \u001b[39m=\u001b[39m np\u001b[39m.\u001b[39mmax(Q[next_state])\n\u001b[1;32m     <a href='vscode-notebook-cell:/Users/quinference/Documents/msc-ai/assessment_project/report.ipynb#X25sZmlsZQ%3D%3D?line=33'>34</a>\u001b[0m new_value \u001b[39m=\u001b[39m (\u001b[39m1\u001b[39m \u001b[39m-\u001b[39m alpha) \u001b[39m*\u001b[39m old_value \u001b[39m+\u001b[39m alpha \u001b[39m*\u001b[39m (reward \u001b[39m+\u001b[39m gamma \u001b[39m*\u001b[39m next_max)\n",
      "\u001b[0;31mIndexError\u001b[0m: arrays used as indices must be of integer (or boolean) type"
     ]
    }
   ],
   "source": [
    "# Reinforcement Learning\n",
    "import random\n",
    " #Initialize the Gym environment with the new DataFrame\n",
    "env = CreditScoringEnv(data=dat_combined)\n",
    "state = env.reset()\n",
    "\n",
    "# Initialize Q-table with zeros\n",
    "Q = np.zeros([len(env.data), env.action_space.n])\n",
    "\n",
    "# Hyperparameters\n",
    "alpha = 0.1\n",
    "gamma = 0.9\n",
    "epsilon = 1.0\n",
    "\n",
    "# Training the Q-learning model\n",
    "for episode in range(1, 10001):\n",
    "    done = False\n",
    "    while not done:\n",
    "        print(f'Type of state: {type(state)}, Type of action: {type(action)}')\n",
    "        print(f'Value of state: {state}, Value of action: {action}')\n",
    "\n",
    "        # Epsilon-greedy action selection\n",
    "        if random.uniform(0, 1) < epsilon:\n",
    "            action = env.action_space.sample()\n",
    "        else:\n",
    "            action = np.argmax(Q[state])\n",
    "        \n",
    "        next_state, reward, done, _ = env.step(action)\n",
    "        \n",
    "        # Update Q-value using the Bellman equation for Q-learning which is defined as:\n",
    "        # Q(s,a) = (1 - alpha) * Q(s,a) + alpha * (reward + gamma * max Q(s',a')) DOUBLE CHECK THIS\n",
    "        old_value = Q[state, action]\n",
    "        next_max = np.max(Q[next_state])\n",
    "        \n",
    "        new_value = (1 - alpha) * old_value + alpha * (reward + gamma * next_max)\n",
    "        Q[state, action] = new_value\n",
    "        \n",
    "        state = next_state\n",
    "    \n",
    "    # Reduce epsilon to shift from exploration to exploitation (i.e. less random actions as the agent learns)\n",
    "    if epsilon > 0.01:\n",
    "        epsilon *= 0.995\n",
    "\n",
    "# At this point, Q contains the Q-values, and you can derive the policy from it.\n",
    "# For example, you can get the policy for the first state as follows:\n",
    "print(np.argmax(Q[0]))\n"
   ]
  },
  {
   "cell_type": "code",
   "execution_count": 82,
   "metadata": {},
   "outputs": [
    {
     "data": {
      "text/plain": [
       "array([[0.],\n",
       "       [0.],\n",
       "       [0.],\n",
       "       [0.],\n",
       "       [0.],\n",
       "       [0.],\n",
       "       [0.],\n",
       "       [0.],\n",
       "       [0.]])"
      ]
     },
     "execution_count": 82,
     "metadata": {},
     "output_type": "execute_result"
    }
   ],
   "source": [
    "Q[1:10, 1:10]"
   ]
  },
  {
   "cell_type": "markdown",
   "metadata": {},
   "source": [
    "Incorporating fairness criteria into an MDP for credit scoring is crucial to ensure that the decision-making process does not discriminate against certain groups based on sensitive attributes like gender, race, or age. There are different notions of fairness that can be applied, such as demographic parity, equalized odds, or disparate impact.  One way to do this would be to modify the State Space by including sensitive attributes.\n"
   ]
  },
  {
   "cell_type": "code",
   "execution_count": null,
   "metadata": {},
   "outputs": [],
   "source": [
    "## 1. Modify the State Space\n",
    "# State Space: Now also includes a sensitive attribute (e.g., gender)\n",
    "self.observation_space = spaces.Box(low=0, high=np.inf, shape=(4,))"
   ]
  },
  {
   "cell_type": "markdown",
   "metadata": {},
   "source": [
    "### 2. Modify the Reward Function\n",
    "\n",
    "The reward function is where you can apply your fairness constraints. For example, you can add a penalty term if the decision violates your fairness criteria.\n"
   ]
  },
  {
   "cell_type": "code",
   "execution_count": null,
   "metadata": {},
   "outputs": [],
   "source": [
    "def get_reward(self, state, action):\n",
    "    sensitive_attribute = state[-2]  # Assuming the second last feature is the sensitive attribute\n",
    "    loan_status = state[-1]\n",
    "    \n",
    "    reward = 0\n",
    "    \n",
    "    if loan_status == 1 and action == 1:\n",
    "        reward = 1\n",
    "    elif loan_status == 0 and action == 1:\n",
    "        reward = -2\n",
    "\n",
    "    # Apply fairness penalty\n",
    "    fairness_penalty = self.calculate_fairness_penalty(state, action)\n",
    "    reward -= fairness_penalty\n",
    "    \n",
    "    return reward\n",
    "\n",
    "def calculate_fairness_penalty(self, state, action):\n",
    "    # Implement your fairness metric here, for example, demographic parity\n",
    "    # For simplicity, let's assume we subtract a penalty if loan is approved\n",
    "    # for a disadvantaged group member\n",
    "    sensitive_attribute = state[-2]\n",
    "    \n",
    "    if sensitive_attribute == 'disadvantaged' and action == 1:\n",
    "        return 0.5\n",
    "    else:\n",
    "        return 0\n"
   ]
  },
  {
   "cell_type": "markdown",
   "metadata": {},
   "source": [
    "## 3. Update the Q-Learning Algorithm\n",
    "\n",
    "You might also want to update your learning algorithm to consider fairness, for instance by adjusting the Q-value update rule. In the simplest case, the fairness penalty can be included in the reward, as above, and no changes to the algorithm are required.\n",
    "\n",
    "However, more advanced techniques might involve multi-objective reinforcement learning, where you would have one objective for maximizing loan profitability and another for fairness. In this case, you would need to update the Q-value update rule to consider both objectives."
   ]
  },
  {
   "cell_type": "markdown",
   "metadata": {},
   "source": [
    "### 4. Monitor Fairness Over Time\n",
    "\n",
    "As the model is training, keep track of fairness metrics over time. You might also have to regularly audit your system to ensure that it remains fair as more data becomes available.\n"
   ]
  },
  {
   "cell_type": "markdown",
   "metadata": {},
   "source": [
    "Incorporating fairness criteria into an MDP is a complex task that may involve significant design and ethical considerations. Given your background in finance, technology, and data science, you're in a good position to take on this challenge by developing methods that are both effective and equitable."
   ]
  },
  {
   "cell_type": "markdown",
   "metadata": {},
   "source": [
    "## Methodology"
   ]
  },
  {
   "cell_type": "markdown",
   "metadata": {},
   "source": [
    "When using the markov chain model, we need to convert the categorical variables to numeric. We will use the LabelEncoder function from the sklearn package to convert the categorical variables to numeric.  Using risk levels as states, we can build a markov decision process to predict the probability of default."
   ]
  },
  {
   "cell_type": "markdown",
   "metadata": {},
   "source": [
    "## Results"
   ]
  },
  {
   "cell_type": "markdown",
   "metadata": {},
   "source": [
    "## Discussion"
   ]
  },
  {
   "cell_type": "markdown",
   "metadata": {},
   "source": [
    "## Conclusion & Word Count"
   ]
  },
  {
   "cell_type": "markdown",
   "metadata": {},
   "source": [
    "## References"
   ]
  }
 ],
 "metadata": {
  "kernelspec": {
   "display_name": "Python 3",
   "language": "python",
   "name": "python3"
  },
  "language_info": {
   "codemirror_mode": {
    "name": "ipython",
    "version": 3
   },
   "file_extension": ".py",
   "mimetype": "text/x-python",
   "name": "python",
   "nbconvert_exporter": "python",
   "pygments_lexer": "ipython3",
   "version": "3.11.5"
  },
  "orig_nbformat": 4
 },
 "nbformat": 4,
 "nbformat_minor": 2
}
